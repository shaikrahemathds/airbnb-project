{
 "cells": [
  {
   "cell_type": "code",
   "execution_count": 2,
   "metadata": {},
   "outputs": [],
   "source": [
    "import json\n",
    "import pandas as pd\n",
    "import matplotlib.pyplot as plt"
   ]
  },
  {
   "cell_type": "code",
   "execution_count": 3,
   "metadata": {},
   "outputs": [],
   "source": [
    "# Loading and Extracting the data\n",
    "\n",
    "data = open('sample_airbnb.json', 'r')\n",
    "airbnb_data = json.load(data)"
   ]
  },
  {
   "cell_type": "code",
   "execution_count": 4,
   "metadata": {},
   "outputs": [
    {
     "data": {
      "text/plain": [
       "{'_id': '1003530',\n",
       " 'listing_url': 'https://www.airbnb.com/rooms/1003530',\n",
       " 'name': 'New York City - Upper West Side Apt',\n",
       " 'summary': '',\n",
       " 'space': 'Murphy bed, optional second bedroom available. Wifi available, Hulu, Netflix, TV Eat-in kitchen. Bathroom with great shower/bath.  Washer/dryer in basement.',\n",
       " 'description': \"Murphy bed, optional second bedroom available. Wifi available, Hulu, Netflix, TV Eat-in kitchen. Bathroom with great shower/bath.  Washer/dryer in basement. New York City! Great neighborhood - many terrific restaurants, bakeries, bagelries. Within easy walking distance are restaurants with the cuisines from India, Thailand, Japan, China, Mexico, South America and Europe.  As well as the many small independent stores that line Broadway, there chain stores such as Urban Outfitters (clothing), Whole Foods (groceries), Sephora (cosmetics), Michaels (crafts), and Modell's (sporting goods). Equidistant to Central Park and Riverside Park which have walking/running/biking trails as well as tennis and racquet ball courts. 10-15 blocks from Columbia University between Broadway and Amsterdam. The International Hostel across the street is an airport shuttle bus and double-decker tour bus stop.  The Hostel also has services available to the neighborhood such as lectures, brochures, etc. Convenientl\",\n",
       " 'neighborhood_overview': \"Great neighborhood - many terrific restaurants, bakeries, bagelries. Within easy walking distance are restaurants with the cuisines from India, Thailand, Japan, China, Mexico, South America and Europe.  As well as the many small independent stores that line Broadway, there chain stores such as Urban Outfitters (clothing), Whole Foods (groceries), Sephora (cosmetics), Michaels (crafts), and Modell's (sporting goods). Equidistant to Central Park and Riverside Park which have walking/running/biking trails as well as tennis and racquet ball courts. 10-15 blocks from Columbia University between Broadway and Amsterdam. The International Hostel across the street is an airport shuttle bus and double-decker tour bus stop.  The Hostel also has services available to the neighborhood such as lectures, brochures, etc.\",\n",
       " 'notes': 'My cat, Samantha, are in and out during the summer.  The apt is layed out in such a  way that each bedroom is very private.',\n",
       " 'transit': 'Conveniently located near 1, 2, 3, B & C subway lines. Also buses on Columbus Avenue (downtown), Amsterdam Avenue (uptown), and Broadway (uptown/downtown). Also near origination/termination of M60 bus which goes to/from LaGuardia Airport.',\n",
       " 'access': 'New York City!',\n",
       " 'interaction': '',\n",
       " 'house_rules': 'No smoking is permitted in the apartment. All towels that are used should be placed in the bath tub upon departure. I have a cat, Samantha, who can stay or go, whichever is preferred.   Please text me upon departure.',\n",
       " 'property_type': 'Apartment',\n",
       " 'room_type': 'Private room',\n",
       " 'bed_type': 'Real Bed',\n",
       " 'minimum_nights': '12',\n",
       " 'maximum_nights': '360',\n",
       " 'cancellation_policy': 'strict_14_with_grace_period',\n",
       " 'last_scraped': '2019-03-07 05:00:00',\n",
       " 'calendar_last_scraped': '2019-03-07 05:00:00',\n",
       " 'first_review': '2013-04-29 04:00:00',\n",
       " 'last_review': '2018-08-12 04:00:00',\n",
       " 'accommodates': 2,\n",
       " 'bedrooms': 1,\n",
       " 'beds': 1,\n",
       " 'number_of_reviews': 70,\n",
       " 'bathrooms': 1.0,\n",
       " 'amenities': ['Internet',\n",
       "  'Wifi',\n",
       "  'Air conditioning',\n",
       "  'Kitchen',\n",
       "  'Elevator',\n",
       "  'Buzzer/wireless intercom',\n",
       "  'Heating',\n",
       "  'Family/kid friendly',\n",
       "  'Washer',\n",
       "  'Dryer',\n",
       "  'translation missing: en.hosting_amenity_50'],\n",
       " 'price': 135.0,\n",
       " 'security_deposit': 0.0,\n",
       " 'cleaning_fee': 135.0,\n",
       " 'extra_people': 0.0,\n",
       " 'guests_included': 1.0,\n",
       " 'images': {'thumbnail_url': '',\n",
       "  'medium_url': '',\n",
       "  'picture_url': 'https://a0.muscache.com/im/pictures/15074036/a97119ed_original.jpg?aki_policy=large',\n",
       "  'xl_picture_url': ''},\n",
       " 'host': {'host_id': '454250',\n",
       "  'host_url': 'https://www.airbnb.com/users/show/454250',\n",
       "  'host_name': 'Greta',\n",
       "  'host_location': 'New York, New York, United States',\n",
       "  'host_about': 'By now I have lived longer in the city than the country however I feel equally at home in each. I like to keep one foot in each and help others to do the same!',\n",
       "  'host_response_time': 'within an hour',\n",
       "  'host_thumbnail_url': 'https://a0.muscache.com/im/pictures/f1022be4-e72a-4b35-b6d2-3d2736ddaff9.jpg?aki_policy=profile_small',\n",
       "  'host_picture_url': 'https://a0.muscache.com/im/pictures/f1022be4-e72a-4b35-b6d2-3d2736ddaff9.jpg?aki_policy=profile_x_medium',\n",
       "  'host_neighbourhood': '',\n",
       "  'host_response_rate': 100,\n",
       "  'host_is_superhost': True,\n",
       "  'host_has_profile_pic': True,\n",
       "  'host_identity_verified': True,\n",
       "  'host_listings_count': 3,\n",
       "  'host_total_listings_count': 3,\n",
       "  'host_verifications': ['email',\n",
       "   'phone',\n",
       "   'reviews',\n",
       "   'jumio',\n",
       "   'offline_government_id',\n",
       "   'government_id']},\n",
       " 'address': {'street': 'New York, NY, United States',\n",
       "  'suburb': 'Manhattan',\n",
       "  'government_area': 'Upper West Side',\n",
       "  'market': 'New York',\n",
       "  'country': 'United States',\n",
       "  'country_code': 'US',\n",
       "  'location': {'type': 'Point',\n",
       "   'coordinates': [-73.96523, 40.79962],\n",
       "   'is_location_exact': False}},\n",
       " 'availability': {'availability_30': 0,\n",
       "  'availability_60': 0,\n",
       "  'availability_90': 0,\n",
       "  'availability_365': 93},\n",
       " 'review_scores': {'review_scores_accuracy': 10,\n",
       "  'review_scores_cleanliness': 9,\n",
       "  'review_scores_checkin': 10,\n",
       "  'review_scores_communication': 10,\n",
       "  'review_scores_location': 10,\n",
       "  'review_scores_value': 10,\n",
       "  'review_scores_rating': 94},\n",
       " 'reviews': [{'_id': '4351675',\n",
       "   'date': '2013-04-29 04:00:00',\n",
       "   'listing_id': '1003530',\n",
       "   'reviewer_id': '3708459',\n",
       "   'reviewer_name': 'Josh',\n",
       "   'comments': \"i had a really pleasant stay at greta's place. the location is super convenient -- and the area is fun, with lots of hidden gems. the apartment was comfortable and charming. greta was accommodating and hospitable and left some great cupcakes in the fridge. i give this place a strong endorsement.\"},\n",
       "  {'_id': '4848277',\n",
       "   'date': '2013-05-28 04:00:00',\n",
       "   'listing_id': '1003530',\n",
       "   'reviewer_id': '4609491',\n",
       "   'reviewer_name': 'Ralf',\n",
       "   'comments': 'Greta has been a great host, and her apartment a great place to stay. Perfectly located for our adventures around NYC, it is a place full of character and, as I see it, a very authentic NY Apartment that makes you feel at home imediately. Great neighbourhood, great infrastructure around the apartment block. Very good for a perfect stay.'},\n",
       "  {'_id': '5094175',\n",
       "   'date': '2013-06-11 04:00:00',\n",
       "   'listing_id': '1003530',\n",
       "   'reviewer_id': '6741662',\n",
       "   'reviewer_name': 'Mame',\n",
       "   'comments': \"Greta was wonderful. We arrived late at night and she made sure we were able to get in. We also had to transfer to a hotel for work, and she allowed us to keep our belongings there until 3 so we wouldn't be carting our luggage until we needed to. The apartment was clean and large and in a wonderful neighborhood. She had lists and menus of places to eat. I couldn't have been happier with our arrangement. Thanks Greta!\"},\n",
       "  {'_id': '5497796',\n",
       "   'date': '2013-07-02 04:00:00',\n",
       "   'listing_id': '1003530',\n",
       "   'reviewer_id': '474156',\n",
       "   'reviewer_name': 'Lars',\n",
       "   'comments': \"Greta's place is very well located, so close to the MTA 1 line, which takes you up and down Manhattan, which was perfect for me.  It was an easy 3 minute walk and be on your way to anywhere in NY. \\r\\nThe shower is something else, the best water pressure I have experienced in a long time.\\r\\nI thought the decor was cool and eclectic, Greta must have an artistic streak. The Murphy bed was comfortable, and the AC unit (not pictured) kept it nice and cool.  \\r\\nAlthough I didn't meet her, she arranged for a neighbor to meet me and show me in. He was cool and so were any other neighbors that I met. \\r\\nShe also left a list of suggestions where to shop and eat, along with menus which was helpful when I needed a late night meal. \\r\\nHighly recommended. \\r\\n\"},\n",
       "  {'_id': '6933005',\n",
       "   'date': '2013-08-31 04:00:00',\n",
       "   'listing_id': '1003530',\n",
       "   'reviewer_id': '6067127',\n",
       "   'reviewer_name': 'Nicole',\n",
       "   'comments': \"I had a wonderful stay at Greta's NYC apartment. The apartment was clean and comfortable. She was a wonderful and informative host. I felt very welcomed in her home.\"},\n",
       "  {'_id': '7205029',\n",
       "   'date': '2013-09-10 04:00:00',\n",
       "   'listing_id': '1003530',\n",
       "   'reviewer_id': '7743438',\n",
       "   'reviewer_name': 'Ute',\n",
       "   'comments': 'Hi Greta,\\r\\nyou have a wonderful place. We had a great time an felt really comfortable - little bit like beeing home in NY :)\\r\\nEverything worked out pretty good, also the connection to La Guardia Airport was perfect.\\r\\n\\r\\nThanks again :)\\r\\n'},\n",
       "  {'_id': '7464858',\n",
       "   'date': '2013-09-21 04:00:00',\n",
       "   'listing_id': '1003530',\n",
       "   'reviewer_id': '8543724',\n",
       "   'reviewer_name': 'Drew',\n",
       "   'comments': 'Greta was very welcoming and helpful. Prompt email communication.\\r\\n\\r\\nA great stay for those in town to see Broadway shows, shopping or sight seeing the West Side. A few minutes walking and I was in Central Park.\\r\\n\\r\\nA definite recommendation.'},\n",
       "  {'_id': '7515354',\n",
       "   'date': '2013-09-23 04:00:00',\n",
       "   'listing_id': '1003530',\n",
       "   'reviewer_id': '1683177',\n",
       "   'reviewer_name': 'Don',\n",
       "   'comments': 'Greta was flexible about our sign-in time, helpful as we arrived, and kind to return to us a bag that we left in her apartment.  The apartment is wonderfully located for transportation and things to do.  It is compact and comfy, full of interesting books and prints.  The bed is quite firm.'},\n",
       "  {'_id': '7871931',\n",
       "   'date': '2013-10-07 04:00:00',\n",
       "   'listing_id': '1003530',\n",
       "   'reviewer_id': '2871729',\n",
       "   'reviewer_name': 'Heidi',\n",
       "   'comments': 'We spent three nights in Greta’s apartment. Her kitchen is fully-equipped and the sleeping arrangements are extremely comfortable. Greta is a very accommodating host and easy to communicate with. She was very gracious about our later-than-expected arrival and allowed us to stay in her apartment on our departure day until we left for an early evening flight. Her apartment is very well-located, with food markets, drug stores, restaurants and coffee shops within a block of her building. The building is ½ block from the #1 subway line, enabling easy access to all parts of Manhattan.'},\n",
       "  {'_id': '8136769',\n",
       "   'date': '2013-10-17 04:00:00',\n",
       "   'listing_id': '1003530',\n",
       "   'reviewer_id': '7811780',\n",
       "   'reviewer_name': 'Julia',\n",
       "   'comments': \"We enjoyed our stay in Greta's apartment very much. The location is perfect, near Central Park, Broadway and everything, and the apartment is extremely cosy. Greta was very welcoming and helpful. We had a great time and felt really comfortable. Thanks :-)\\r\\n\"},\n",
       "  {'_id': '8210485',\n",
       "   'date': '2013-10-21 04:00:00',\n",
       "   'listing_id': '1003530',\n",
       "   'reviewer_id': '8119019',\n",
       "   'reviewer_name': 'Diane',\n",
       "   'comments': \"Our stay are Greta's was wonderful- she was so accomodating and welcoming.  Her apartment is lovely and such a great place to unwind from the hurried family weekend weekend we had.  Greta even accomodated the joining of my niece and nephew for one of the two nights with no problem.. Thank you so much, Greta, for your hospitality!  \"},\n",
       "  {'_id': '8478870',\n",
       "   'date': '2013-11-02 04:00:00',\n",
       "   'listing_id': '1003530',\n",
       "   'reviewer_id': '8140760',\n",
       "   'reviewer_name': 'Linda',\n",
       "   'comments': 'Greta was a gracious and accommodating host, even coming over during our stay to reset the wifi connections.  The location of the apartment is ideal, basically half a short block to the subway.  Her list of neighborhood restaurants was very helpful and we sampled as many as we were able to. She has everything organized well.'},\n",
       "  {'_id': '8587648',\n",
       "   'date': '2013-11-06 05:00:00',\n",
       "   'listing_id': '1003530',\n",
       "   'reviewer_id': '9307997',\n",
       "   'reviewer_name': 'Maureen',\n",
       "   'comments': \"Greta's apartment was comfortable and clean and the neighborhood was easily accessible to museums and other locations. A bit noisy at night.\"},\n",
       "  {'_id': '8768655',\n",
       "   'date': '2013-11-17 05:00:00',\n",
       "   'listing_id': '1003530',\n",
       "   'reviewer_id': '9464736',\n",
       "   'reviewer_name': 'George',\n",
       "   'comments': 'Greta was extremely helpful throughout this process!  Communication was maintained throughout the process and throughout our stay.  She was able to answer any questions we had and even gave suggestions for us.  Her instructions were awesome and the information left at her apartment were great!  There was even a binder with additional information like places to eat and places to go.  She even took the time to make sure we knew how to use the radiator!  Being from Hawaii, we had no knowledge about radiators and how to use them - we really appreciated her thoughtfulness!'},\n",
       "  {'_id': '9179262',\n",
       "   'date': '2013-12-11 05:00:00',\n",
       "   'listing_id': '1003530',\n",
       "   'reviewer_id': '9405167',\n",
       "   'reviewer_name': 'Whitney',\n",
       "   'comments': \"Greta's apartment was homey, clean and just the right size for two (probably even three) people. Greta was extremely helpful in getting us settled and providing information about the neighborhood....etc. Murphy bed was very firm but comfortable. Great water pressure in shower. Apt is close to everything and  the neighborhood has so much to offer. I would definitely recommend Greta's place.  \"},\n",
       "  {'_id': '9428838',\n",
       "   'date': '2013-12-28 05:00:00',\n",
       "   'listing_id': '1003530',\n",
       "   'reviewer_id': '10297643',\n",
       "   'reviewer_name': 'Deborah & Tim',\n",
       "   'comments': \"The apartment is very homey - it felt like I was staying in a friend's apartment. The bed is surprisingly comfy and firm (I have never slept in a Murphy bed before) and the shower had plenty of hot water and great pressure. Greta was very communicative and friendly, and was also incredibly accommodating when I had something come up unexpectedly and needed to stay a couple hours longer than I anticipated. Overall all it was a very cozy stay in a great location!\"},\n",
       "  {'_id': '9543118',\n",
       "   'date': '2014-01-02 05:00:00',\n",
       "   'listing_id': '1003530',\n",
       "   'reviewer_id': '8828184',\n",
       "   'reviewer_name': 'Catherine',\n",
       "   'comments': 'The location of this appartment was ideal! Just minutes away the subway and walking distance from Central Park, Riverside Park, and many good restaurants on Broadway. A quaint appartment, with a lot of cachet. I recommend it!!'},\n",
       "  {'_id': '20872115',\n",
       "   'date': '2014-10-06 04:00:00',\n",
       "   'listing_id': '1003530',\n",
       "   'reviewer_id': '7838233',\n",
       "   'reviewer_name': 'Brandon',\n",
       "   'comments': 'What a delightful apartment!  I plan to stay here next time I bring family to New York. I would describe the apartment as a very warm, personal, comfortable and homey place to stay. It’s a corner apartment with good light, lots of books and  very good energy. Plus, the beds are quite comfortable. My daughter exclaimed “Hey Dad, come lie down in this one. You’ll never want to get up!”\\r\\n\\r\\nThe neighborhood was incredibly well located and enjoyable. The train stops  a half block away, and there are numerous excellent restaurants and conveniences close by. Greta, the host, provides a first-rate list of recommendations.\\r\\n\\r\\nGreta was a personable, helpful and extremely welcoming host. She was very quick to respond to my online inquiries and, once we arrived, to any further requests for advice.\\r\\n'},\n",
       "  {'_id': '22257920',\n",
       "   'date': '2014-11-02 04:00:00',\n",
       "   'listing_id': '1003530',\n",
       "   'reviewer_id': '4034556',\n",
       "   'reviewer_name': 'Aparna',\n",
       "   'comments': 'Greta was a lovely host! She was communicative, helpful and flexible during the booking process and very responsive and friendly when we were at her place in NYC. The house is charming and comfortable, and very conveniently located right by the 1 train. We were two of us and only used one room, but the house can fit another person or two. \\r\\nFor anyone visiting NYC and looking to be in the city but not in the midst of the city noise, this is a great place to stay! You can be downtown in 20 minutes. '},\n",
       "  {'_id': '23415037',\n",
       "   'date': '2014-11-30 05:00:00',\n",
       "   'listing_id': '1003530',\n",
       "   'reviewer_id': '22685675',\n",
       "   'reviewer_name': 'Karolina',\n",
       "   'comments': \"I stayed at Greta's place for 3 days! It was a really pleasant stay! The bed was really comfortable. The place was clean and cozy. A minute from the subway station! I didnt meet Greta in person, but we were communicating all the time and she was really helpful and kind with everything I needed! I would love to stay again the next time! :) i surely recommend it! \"},\n",
       "  {'_id': '23924172',\n",
       "   'date': '2014-12-14 05:00:00',\n",
       "   'listing_id': '1003530',\n",
       "   'reviewer_id': '16534063',\n",
       "   'reviewer_name': 'Paul',\n",
       "   'comments': \"Staying at Greta's apartment was delightful!  It's a wonderful, quirky New York apartment -- very compact, but also very comfy and accurately portrayed in the pictures.  The Murphy (fold-down) bed has a very thick memory foam mattress that is extremely comfortable.  Samantha (the cat) was a sweet little presence, but she kept mostly to herself so we barely saw her.  The location is great, less than a block to the 1 line, and there are several nice restaurants in the neighborhood.  Finally, Greta herself was a perfect host:  kind but not intrusive, thoughtful in her preparations for guests, and available should any problems arise (though none did).  A great airbnb experience!\"},\n",
       "  {'_id': '28737168',\n",
       "   'date': '2015-03-29 04:00:00',\n",
       "   'listing_id': '1003530',\n",
       "   'reviewer_id': '29115141',\n",
       "   'reviewer_name': 'Catherine',\n",
       "   'comments': 'Greta was a great host.  She met us late on Friday and explained everything about the apartment which we found very comfortable and fun.  I would highly recommend this apartment to anyone.  It is not luxurious but well-equipped and I loved the location, near Central Park and easy walk to museums.\\r\\n'},\n",
       "  {'_id': '29274122',\n",
       "   'date': '2015-04-06 04:00:00',\n",
       "   'listing_id': '1003530',\n",
       "   'reviewer_id': '18417452',\n",
       "   'reviewer_name': 'Paul',\n",
       "   'comments': \"Apt is beautifully as advertised, a comfortable place and beds, kitchen and bath. Arrival and departure were really well coordinated by host, the lovely Greta. Location is fabulously convenient on upper West side by subway, Amsterdam and Broadway restaurants, bars and history. We'd stay here again.  \"},\n",
       "  {'_id': '29610000',\n",
       "   'date': '2015-04-10 04:00:00',\n",
       "   'listing_id': '1003530',\n",
       "   'reviewer_id': '27919376',\n",
       "   'reviewer_name': 'Anika',\n",
       "   'comments': 'Greta was a lovely host, making sure we settled in well and could contact her easily if there were any problems. \\r\\nThe apartment is cosy with very comfortable beds and a well equipped kitchen in case you need a place to cook. It is also a nice neighborhood, with a lot of great places to eat nearby and it is a minute away from a subway station, so you are well connected to the rest of the city. We had a great time! '},\n",
       "  {'_id': '29775810',\n",
       "   'date': '2015-04-12 04:00:00',\n",
       "   'listing_id': '1003530',\n",
       "   'reviewer_id': '20415509',\n",
       "   'reviewer_name': 'Jane',\n",
       "   'comments': 'My daughter and I stayed the weekend at Gretas place.  Greta was herself away for the weekend but everything was in great shape for us to stay and Greta was very available by phone for any questions.  Everything was very tidy and clean..comfy beds and good shower.  It was like home.  The location in the city is perfect..close to the park and subway.  I highly recommend Gretas home for aNew York stay!'},\n",
       "  {'_id': '30732097',\n",
       "   'date': '2015-04-26 04:00:00',\n",
       "   'listing_id': '1003530',\n",
       "   'reviewer_id': '10570759',\n",
       "   'reviewer_name': 'Lakshmi',\n",
       "   'comments': \"Greta is an amazing host and her apartment was super convenient for my stay in Manhattan. Here are my reasons:\\r\\nFirst - she as a person made me feel super welcome. I requested her a really early check in and she agreed (which was helpful because I took a red eye from Seattle). She also allowed me to keep my bags after my check out time so I could pick it up before my flight.\\r\\nSecond - her apartment location is SUPER convenient. Right next to the #1 and pretty close to B and C lines. NYC is all about location is this fits perfectly.\\r\\nThird - her apartment gives the feel of a typical NYC apartment. It is tiny but has everything you need. Two beds, a great shower, clean towels, and a kitchen (which I didn't use). Safe building with elevator. \\r\\n\\r\\nI would totally stay here again.  \"},\n",
       "  {'_id': '31196460',\n",
       "   'date': '2015-05-03 04:00:00',\n",
       "   'listing_id': '1003530',\n",
       "   'reviewer_id': '43102',\n",
       "   'reviewer_name': 'Catherine Et Albert',\n",
       "   'comments': \"Greta was a fantastic host, we had a problem with a lost luggage at JFK and she helped us to coordinate the delivery. We also arrived later than scheduled in Manhattan, Greta was waiting for us, she welcomed us very friendly. The apartment is very nice and bright, the bed is very comfortable. Nice building with elevator, perfect location, between Riverside Park and Central Park, a block from the subway, lot of nice restaurants all around, we had a fantastic stay! Greta est une hôte fantastique, nous avons eu un problème de baggage à JFK et Greta nous a aidé à coordonner la livraison. Nous sommes arrivés plus tard que prévu et Greta nous a accueilli très chaleureseument. L'appartement est parfaitement situé, a un block du métro et entre Cantral Park et Riverside Park, il y a un ascenceur. Nombreux restaurants tout autour! Parfait nous recommandons vivement.\"},\n",
       "  {'_id': '31845940',\n",
       "   'date': '2015-05-10 04:00:00',\n",
       "   'listing_id': '1003530',\n",
       "   'reviewer_id': '14717479',\n",
       "   'reviewer_name': 'Samantha',\n",
       "   'comments': 'We had a great stay with Greta.  She was a good communicator, flexible, and her apartment is a good value for the neighborhood.  We will definitely think about staying with her again.'},\n",
       "  {'_id': '33677946',\n",
       "   'date': '2015-05-31 04:00:00',\n",
       "   'listing_id': '1003530',\n",
       "   'reviewer_id': '31114625',\n",
       "   'reviewer_name': 'Rebecca',\n",
       "   'comments': \"My stay at Greta's place was perfect! The space is exactly as described, and was very clean and welcoming. Greta was very responsive to me, and even helped me figure out how to pick up the keys with my late arrival. Thank you!\"},\n",
       "  {'_id': '36960183',\n",
       "   'date': '2015-07-03 04:00:00',\n",
       "   'listing_id': '1003530',\n",
       "   'reviewer_id': '33119724',\n",
       "   'reviewer_name': 'Thomas',\n",
       "   'comments': 'Greta was an excellent hostess and was very accommodating. She took care of the little things that made a difference such as providing an extra set of keys and having the air conditioning on prior to my arrival. The apartment was clean and very comfortable. It instantly felt like \"home\". The location of the apartment was great! There are multiple grocery stores, restaurants, bars, etc. within a very short walking distance. The subway stop was very conveniently located as was Central Park and Riverside Park, which are both beautiful places for an afternoon walk. I would and have recommended this listing to friends that are traveling to the city and I would stay there again without hesitation. '},\n",
       "  {'_id': '37555310',\n",
       "   'date': '2015-07-08 04:00:00',\n",
       "   'listing_id': '1003530',\n",
       "   'reviewer_id': '6352182',\n",
       "   'reviewer_name': 'Murray',\n",
       "   'comments': 'Greta is an excellent Airbnb host! She is warm, accommodating and very well organized. Her apt is located close to all amenities, Central and Riverside Parks, and bus/subway stops. The apt is clean, more spacious than expected, well stocked with anything you could possibly need, and has very comfortable beds and a first rate shower. I was travelling with my soon-to-be 17 year old daughter so she was thrilled to have her own bedroom! This is not fancy accommodation but warm and homey and probably a good representation of how an average New Yorker lives, although I suspect not many are as organized as Greta. Much recommended!'},\n",
       "  {'_id': '48783685',\n",
       "   'date': '2015-09-28 04:00:00',\n",
       "   'listing_id': '1003530',\n",
       "   'reviewer_id': '43967256',\n",
       "   'reviewer_name': 'Judy',\n",
       "   'comments': \"I have used airbnb in NYC several times, and this, by far, was my best experience.  The location is on a quiet street and on the same block as a major subway line.  You can't get any better than that.  The apartment has all the conveniences of a home - everything you'd need in a kitchen, extremely comfortable mattress, cable TV, air conditioning, wifi, great water pressure.  \\r\\n\\r\\nGreata goes way out of her way to make your stay as enjoyable as possible.  Her recommendations are outstanding and the check-in and check-out were  extremely easy.  This is a five star host and you won't go wrong with this choice for a stay in NYC. \\r\\n\"},\n",
       "  {'_id': '53270568',\n",
       "   'date': '2015-11-07 05:00:00',\n",
       "   'listing_id': '1003530',\n",
       "   'reviewer_id': '21960218',\n",
       "   'reviewer_name': 'Nicky',\n",
       "   'comments': \"This is my second time staying at Greta's apartment. The best place to stay in NYC by far. There is a subway on the same street as the apartment, a two minute walk away (the 1 line) and multiple places to eat close by. There is also a CVS , Walgreens, grocery and liquor store within walking distance as well. The apartment is very clean and the bed is very comfortable. Checking in and out as easy as Greta is very flexible. The apartment is very spacious with a nice kitchen and lots of room in the fridge. I hope to continue to stay here every time I visit New York! \"},\n",
       "  {'_id': '57574836',\n",
       "   'date': '2015-12-27 05:00:00',\n",
       "   'listing_id': '1003530',\n",
       "   'reviewer_id': '50466815',\n",
       "   'reviewer_name': 'Obaseki',\n",
       "   'comments': 'Greta place is amazing and blissful. She was understand to our delayed scheduled. Her place is home away from home. Her details description gave us point of interest to visit. If I was to go to NYC again I would check Greta place available first.'},\n",
       "  {'_id': '58775965',\n",
       "   'date': '2016-01-05 05:00:00',\n",
       "   'listing_id': '1003530',\n",
       "   'reviewer_id': '2692640',\n",
       "   'reviewer_name': 'Federica',\n",
       "   'comments': \"We had a wonderful experience staying at Greta's flat. She is an amazing host: disposable, kind and always ready to answer back to our necessities, including late check-in and check-out. The flat itself is a true newyorker's one, warm, stylish and excellentlty connected with the subway. We strongly suggest it for everyone!\"},\n",
       "  {'_id': '63209635',\n",
       "   'date': '2016-02-21 05:00:00',\n",
       "   'listing_id': '1003530',\n",
       "   'reviewer_id': '4823592',\n",
       "   'reviewer_name': 'Lucinda',\n",
       "   'comments': \"Greta was very welcoming and flexible.  My friend and I slept well in comfortable beds under soft cotton sheets in this lovely quiet flat on the upper west side.  We walked to the Museum of Natural History and hopped on the subway (less than one block away!) to go downtown.  Greta's place offered a sweet artful respite from the rush of the city.\"},\n",
       "  {'_id': '70519082',\n",
       "   'date': '2016-04-18 04:00:00',\n",
       "   'listing_id': '1003530',\n",
       "   'reviewer_id': '59943151',\n",
       "   'reviewer_name': 'H',\n",
       "   'comments': \"Greta was as amazing as her beautiful home!  The check in and check out process was easy.  Greta's communication was super convenient as she used text messaging and email to keep in constant communication.  Her apartment is beautifully decorated, extremely comfortable, and very welcoming.   The neighborhood is safe with stores and restaurants within a short walking distance.  I highly recommend Greta's apartment for renting.  You won't be disappointed.\"},\n",
       "  {'_id': '71843260',\n",
       "   'date': '2016-04-29 04:00:00',\n",
       "   'listing_id': '1003530',\n",
       "   'reviewer_id': '31368654',\n",
       "   'reviewer_name': 'Peter',\n",
       "   'comments': 'What can we say? Greta is a delight and her place is perfect. The beds are comfortable, the kitchen is an eat-in and the bathroom is classic New York. The building is almost 150 years old and holds up. The location is perfect, a block to the 1 train and four blocks from the bus to LA Guardia. Everything was perfect and we already miss Samantha. Thank you Greta and we hope to be able to stay there in the future.'},\n",
       "  {'_id': '82291166',\n",
       "   'date': '2016-06-27 04:00:00',\n",
       "   'listing_id': '1003530',\n",
       "   'reviewer_id': '4543077',\n",
       "   'reviewer_name': 'Stuart',\n",
       "   'comments': 'Easy to make arrangements, was readily available for questions, and flexible about arriving and departing. Highly recommend this Upper West Side accommodation.'},\n",
       "  {'_id': '84121201',\n",
       "   'date': '2016-07-05 04:00:00',\n",
       "   'listing_id': '1003530',\n",
       "   'reviewer_id': '62507392',\n",
       "   'reviewer_name': 'Jean',\n",
       "   'comments': \"Greta and I communicated regularly before my trip,she was prompt and helpful. She met me at the apartment and was very welcoming,filled me in on all I needed to know. The apartment is so lovely and convenient and cosy and beautiful! Great area. I'd love to come back.\"},\n",
       "  {'_id': '85258241',\n",
       "   'date': '2016-07-10 04:00:00',\n",
       "   'listing_id': '1003530',\n",
       "   'reviewer_id': '42965012',\n",
       "   'reviewer_name': 'Gwen',\n",
       "   'comments': 'Greta went out of her way to assist us with difficult flight times and luggage which really made things easier for us. The area was good and as everyone notes, great for the subway, which works far better than the tourist buses which barely move at times with traffic. Lots of eateries etc handy. '},\n",
       "  {'_id': '86034388',\n",
       "   'date': '2016-07-14 04:00:00',\n",
       "   'listing_id': '1003530',\n",
       "   'reviewer_id': '53587610',\n",
       "   'reviewer_name': 'Nesta',\n",
       "   'comments': \"Throughout, all Greta's communications were prompt, friendly and helpful.  We felt very prepared and welcome in her apartment, which is charming, comfortable and well located - a real 'home-from-home' to return to after a hot day's sight-seeing.  It was fun to have a brief swap over with the previous visitors (agreed previously by email with Greta).   Many thanks for a great stay. \"},\n",
       "  {'_id': '86519833',\n",
       "   'date': '2016-07-16 04:00:00',\n",
       "   'listing_id': '1003530',\n",
       "   'reviewer_id': '576347',\n",
       "   'reviewer_name': 'Ifeoma',\n",
       "   'comments': 'This was a unique apartment in an excellent location. Great for anyone having business at Columbia University. Close to restaurants, transportation. Highly recommend. '},\n",
       "  {'_id': '88541809',\n",
       "   'date': '2016-07-24 04:00:00',\n",
       "   'listing_id': '1003530',\n",
       "   'reviewer_id': '54217384',\n",
       "   'reviewer_name': 'Terri',\n",
       "   'comments': \"Greta is a wonderful Host. Very honest, helpful. Great to work with. The neighborhood was awesome, close to subway, parks. Fabulous bagel store. The house is cute, quaint. Your really get the feel of what it's like to live there. I recommend this place. My daughter and I had a great time.\"},\n",
       "  {'_id': '89504780',\n",
       "   'date': '2016-07-28 04:00:00',\n",
       "   'listing_id': '1003530',\n",
       "   'reviewer_id': '6273647',\n",
       "   'reviewer_name': 'Ralf',\n",
       "   'comments': 'short version: if available, take it! more details: Greta is a great host. very helpful and pragmatic about arrival and departure to accommodate travellers plans as best as possible. the apartment is very cosy and you feel like visiting a good friend or relative big apple. location between 2 subway lines and a 10min walk from central park is just great. a whole foods and other shops are on the way to get all necesseties. building is well maintained and clean like the whole neighborhood. surprisingly quite for the central location. we habe been there in july and were able to manage the heat well by the window aircons to have a good night sleep. Greta always replied immediately in the outmost helpful way during preparation and stay. thank you Greta! we will hopefully be back soon :)\\n'},\n",
       "  {'_id': '90261939',\n",
       "   'date': '2016-07-31 04:00:00',\n",
       "   'listing_id': '1003530',\n",
       "   'reviewer_id': '57249998',\n",
       "   'reviewer_name': 'Annesca',\n",
       "   'comments': 'Greta went through a lot of trouble to accommodate our flight times and make our arrival and departure as convenient as possible. Much appreciated!'},\n",
       "  {'_id': '92084727',\n",
       "   'date': '2016-08-07 04:00:00',\n",
       "   'listing_id': '1003530',\n",
       "   'reviewer_id': '24815450',\n",
       "   'reviewer_name': 'Julien',\n",
       "   'comments': 'Nous avons apprécié la flexibilité de Greta pour répondre à nos questions et la localisation de l appartement très proche du métro.\\r\\n'},\n",
       "  {'_id': '94083156',\n",
       "   'date': '2016-08-14 04:00:00',\n",
       "   'listing_id': '1003530',\n",
       "   'reviewer_id': '42965012',\n",
       "   'reviewer_name': 'Gwen',\n",
       "   'comments': \"Our second stay at Greta's on the last leg of our holiday, the city was oh so hot and humid but fortunately her air conditioning was equal to the task. The subway entrance close to the apartment was manned and easy to buy and top up your pass, it is the only way to travel around the city. On leaving for the airport, after both our stays we had only to wait a minute on the corner with our luggage to get a taxi to the airport. Once again Greta allowed us to arrive and leave at times that suited us with our luggage which didn't leave us stranded for hours with difficult flight times from Australia which was a great relief, thanks so much Greta!\"},\n",
       "  {'_id': '98202715',\n",
       "   'date': '2016-08-29 04:00:00',\n",
       "   'listing_id': '1003530',\n",
       "   'reviewer_id': '20316967',\n",
       "   'reviewer_name': 'Jenny',\n",
       "   'comments': 'We had a wonderful stay in NYC. Greta was a wonderful host, excellent communication, very helpful and accommodating. The location was perfect for us near restaurants and Columbia. We would love to stay there again. Thank You Greta!'},\n",
       "  {'_id': '98674131',\n",
       "   'date': '2016-09-01 04:00:00',\n",
       "   'listing_id': '1003530',\n",
       "   'reviewer_id': '54784830',\n",
       "   'reviewer_name': 'Terri',\n",
       "   'comments': 'The apartment is in a nice neighbor. The Italian restaurant next store was good. Communication with Greta was exceptional. We would definitely stay here again.'},\n",
       "  {'_id': '99485043',\n",
       "   'date': '2016-09-05 04:00:00',\n",
       "   'listing_id': '1003530',\n",
       "   'reviewer_id': '59943151',\n",
       "   'reviewer_name': 'H',\n",
       "   'comments': \"This was my second stay at Greta's place, and it was absolutely wonderful.  The apartment is clean, comfortable, and very well organized.  I especially love the decor and comfortable bedding. The neighborhood is safe and very convenient with easy access to bus lines and rail.  There is also a wide variety of restaurants within walking distance.  Greta is a very attentive and responsive hostess.  You will not be disappointed with her or her wonderful home.  I highly recommend!\"},\n",
       "  {'_id': '101291814',\n",
       "   'date': '2016-09-12 04:00:00',\n",
       "   'listing_id': '1003530',\n",
       "   'reviewer_id': '5919533',\n",
       "   'reviewer_name': 'Jean And Letitia',\n",
       "   'comments': \"We had a great stay in New York City. Greta's apartment was perfect, great location just three blocks from Central Park and 1 block from major subway lines. The apartment was spacious, clean, quiet and welcoming. Thank you for making our new York experience even better. I greatly recommend Greta's place. She even let us stay until 2pm the day of departure. Thank you\\r\\nJean\"},\n",
       "  {'_id': '106551953',\n",
       "   'date': '2016-10-06 04:00:00',\n",
       "   'listing_id': '1003530',\n",
       "   'reviewer_id': '47795517',\n",
       "   'reviewer_name': 'Vicki',\n",
       "   'comments': \"We thoroughly enjoyed our stay in New York. Greta's place was a home away from home. The location was ideal with subway station, shops and restaurants just a few minutes  walk, even an Italian restaurant next door.  Central Park only 2 blocks away. Greta is very obliging and helpful especially her flexibility with our late flights.  If we ever make it back to New York would definitely love to stay at Greta's again.\"},\n",
       "  {'_id': '117029086',\n",
       "   'date': '2016-12-04 05:00:00',\n",
       "   'listing_id': '1003530',\n",
       "   'reviewer_id': '103606558',\n",
       "   'reviewer_name': 'Rachel And Jeff',\n",
       "   'comments': 'Great location close to subway & everything you would possibly need! Greta was very accommodating & if we stay in NYC again we will definitely be looking into booking her place first ;)'},\n",
       "  {'_id': '121690051',\n",
       "   'date': '2016-12-18 05:00:00',\n",
       "   'listing_id': '1003530',\n",
       "   'reviewer_id': '205255',\n",
       "   'reviewer_name': 'Jill',\n",
       "   'comments': 'Great place for families! Nice location (we even found on-street parking easily), and great neighborhood for restaurants. '},\n",
       "  {'_id': '123299700',\n",
       "   'date': '2016-12-28 05:00:00',\n",
       "   'listing_id': '1003530',\n",
       "   'reviewer_id': '97224933',\n",
       "   'reviewer_name': 'Sarah Michele',\n",
       "   'comments': 'Fantastic location and value. Host is very accommodating and responsive.'},\n",
       "  {'_id': '125121514',\n",
       "   'date': '2017-01-04 05:00:00',\n",
       "   'listing_id': '1003530',\n",
       "   'reviewer_id': '23113137',\n",
       "   'reviewer_name': 'Kim',\n",
       "   'comments': 'Greta is an amazing host with a very cute apartment. She was very responsive to our questions and provided us with a lot of information about the area. The location was amazing, so close the the 1 and Starbucks, DD and grocery stores. Would 100% stay here again if I returned to New York. '},\n",
       "  {'_id': '144377714',\n",
       "   'date': '2017-04-15 04:00:00',\n",
       "   'listing_id': '1003530',\n",
       "   'reviewer_id': '18142306',\n",
       "   'reviewer_name': 'Tracy',\n",
       "   'comments': \"Greta's place is comfortable and homey.  Each of the three bedrooms has a door, which is a real treat in a big city! A true New York apartment experience!  Birds singing in the trees outside, comfy beds, loads of restaurants and grocery nearby. Lovely easy walks to Central Park, Riverside Park. Subway stop right on the corner. We took Lyft around due to my mom's use of a wheelchair in the streets. Drivers made good time to and from lower Manhattan via larger roads. Elevator made it easy to get to and from the 4th floor apartment, and being on the 4th floor removed us from the street a bit. \"},\n",
       "  {'_id': '156378118',\n",
       "   'date': '2017-05-30 04:00:00',\n",
       "   'listing_id': '1003530',\n",
       "   'reviewer_id': '120945155',\n",
       "   'reviewer_name': 'Adrian',\n",
       "   'comments': 'Overall a very nice apartment in a nice location. Plenty of restaurants in the area. Greta was a friendly and forthcoming host'},\n",
       "  {'_id': '158625916',\n",
       "   'date': '2017-06-07 04:00:00',\n",
       "   'listing_id': '1003530',\n",
       "   'reviewer_id': '39779933',\n",
       "   'reviewer_name': 'Sandrina',\n",
       "   'comments': 'Great host, great Appartement, great location. Again any time. '},\n",
       "  {'_id': '166479697',\n",
       "   'date': '2017-07-03 04:00:00',\n",
       "   'listing_id': '1003530',\n",
       "   'reviewer_id': '13818466',\n",
       "   'reviewer_name': 'Jeremy',\n",
       "   'comments': \"The place was so conveniently located at a mere 1-2 minutes walk from the subway. It was very cozy, everything was neat and tidy and really made us feel like we were home. Greta went the extra mile to help us with the check-in, and was super fast and responsive and made sure we didn't lack anything! My go-to airbnb place of choice for the next time we'll be in town. \"},\n",
       "  {'_id': '175167108',\n",
       "   'date': '2017-07-28 04:00:00',\n",
       "   'listing_id': '1003530',\n",
       "   'reviewer_id': '22834501',\n",
       "   'reviewer_name': 'Kayla',\n",
       "   'comments': \"Greta's place was perfect. We were in a three-week program at Columbia and walked into class each day. The place was spacious and quiet. Air conditioning was perfect in the hot New York summer! Would 100% stay again.\"},\n",
       "  {'_id': '177406415',\n",
       "   'date': '2017-08-02 04:00:00',\n",
       "   'listing_id': '1003530',\n",
       "   'reviewer_id': '20960360',\n",
       "   'reviewer_name': 'Noel',\n",
       "   'comments': 'Lovely and homely apartment right in the heart of uptown Manhattan. Has a subway station on the same block, surrounded by great eats and just a couple of streets away from Central Park. Totally would come back when we visit New York again.'},\n",
       "  {'_id': '179377561',\n",
       "   'date': '2017-08-07 04:00:00',\n",
       "   'listing_id': '1003530',\n",
       "   'reviewer_id': '91436256',\n",
       "   'reviewer_name': 'Rob',\n",
       "   'comments': \"Greta's apartment is perfect for a couple who want to stay away from the noisy downtown area. The neighbourhood is peaceful, but has some good taverns and restaurants as well. Greta could not be any more helpful, going way beyond to get an item we left at the apartment to us. We cannot recommend Greta,s  highly enough.\"},\n",
       "  {'_id': '182396917',\n",
       "   'date': '2017-08-14 04:00:00',\n",
       "   'listing_id': '1003530',\n",
       "   'reviewer_id': '45877006',\n",
       "   'reviewer_name': 'Joan',\n",
       "   'comments': 'It was lovely to have Greta to greet us. We thoroughly enjoyed our stay in New York and in her apartment.'},\n",
       "  {'_id': '187129145',\n",
       "   'date': '2017-08-26 04:00:00',\n",
       "   'listing_id': '1003530',\n",
       "   'reviewer_id': '42556498',\n",
       "   'reviewer_name': 'Linda',\n",
       "   'comments': 'Gretas Appartement ist wirklich schön und gemütlich. Wir waren super zufrieden! Die Lage ist perfekt um zügig in Richtung Downtown oder in den Central Park zu gelangen. Falls man mit dem Auto anreist ist das Parken auf der Straße kostenlos. Auch Check-In und Kommunikation liefen völlig reibungslos. Sehr zu empfehlen!'},\n",
       "  {'_id': '201967739',\n",
       "   'date': '2017-10-09 04:00:00',\n",
       "   'listing_id': '1003530',\n",
       "   'reviewer_id': '13818466',\n",
       "   'reviewer_name': 'Jeremy',\n",
       "   'comments': \"This was our 2nd stay at Greta's place and we loved it just as much as the first time we stayed. Again, great location (1 min walk from the subway), and we even managed to find free parking around! The place is really cozy and it's starting to feel like our 2nd home in NYC. Good shower, kitchen, separate bedrooms and a nice neighborhood close to central park. What more can you need? Highly recommended!\"},\n",
       "  {'_id': '223508188',\n",
       "   'date': '2018-01-01 05:00:00',\n",
       "   'listing_id': '1003530',\n",
       "   'reviewer_id': '14723761',\n",
       "   'reviewer_name': 'Bruna',\n",
       "   'comments': 'We had a really great time at Greta’s apartment! First of all she was very nice with us since the beggining, helping with all our doubts. The apartment is near of Central Park and a lot of stores and restaurants. It’s a calm local neighborhood, to live your days in the city like a real new yorker :) . The place was very clean, the shower was good and beds was confortable. The heater sistem worked very well and kept us warm always - it was very important, because the temperatures was very low during our stay there. We definetelly recomend this place to stay! '},\n",
       "  {'_id': '245763661',\n",
       "   'date': '2018-03-23 04:00:00',\n",
       "   'listing_id': '1003530',\n",
       "   'reviewer_id': '60691725',\n",
       "   'reviewer_name': 'Andrea',\n",
       "   'comments': 'Loved the stay here. Greta is a wonderful host. The room is spacious and you have everything you need. The neighborhood is beautiful, lots of restaurants nearby, and the red train is literally next to the apartment. \\nDefinitely recommended.'},\n",
       "  {'_id': '306501176',\n",
       "   'date': '2018-08-12 04:00:00',\n",
       "   'listing_id': '1003530',\n",
       "   'reviewer_id': '174551190',\n",
       "   'reviewer_name': 'Elena',\n",
       "   'comments': 'greta was a super host! the house really nice and well kept. the bed is very comfortable and equipped with everything. the neighborhood is very safe and close to all amenities: the metro, supermarkets, main attractions, restaurants. Greta made sure that my stay was unforgettable, always present but never intrusive and respectful of privacy. it has always been helpful for every kind of need. thanks to greta for making my stay beautiful. surely if i go back to new york i will definitely come back here.'}]}"
      ]
     },
     "execution_count": 4,
     "metadata": {},
     "output_type": "execute_result"
    }
   ],
   "source": [
    "airbnb_data[0]"
   ]
  },
  {
   "cell_type": "code",
   "execution_count": 5,
   "metadata": {},
   "outputs": [],
   "source": [
    "pd.set_option('display.max_columns', 50)"
   ]
  },
  {
   "cell_type": "code",
   "execution_count": 6,
   "metadata": {},
   "outputs": [],
   "source": [
    "def listing_info():\n",
    "    listings = []\n",
    "    \n",
    "    for i in airbnb_data:\n",
    "        coordinates = i['address']['location'].get('coordinates')  # Get coordinates from the data\n",
    "        if coordinates:\n",
    "            latitude = coordinates[1]  # latitude is the second element in the list\n",
    "            longitude = coordinates[0]  # longitude is the first element in the list\n",
    "        else:\n",
    "            latitude = None\n",
    "            longitude = None\n",
    "        \n",
    "        # Convert amenities list to a comma-separated string\n",
    "        amenities = i.get('amenities', [])\n",
    "        amenities_str = \", \".join(amenities) if amenities else None\n",
    "        \n",
    "        # Create the data dictionary with all the relevant fields\n",
    "        data = dict(\n",
    "            listing_id = i['_id'],\n",
    "            listing_url = i['listing_url'],\n",
    "            name = i['name'],\n",
    "            description = i['description'],\n",
    "            street = i['address']['street'],\n",
    "            suburb = i['address']['suburb'],\n",
    "            government_area = i['address']['government_area'],\n",
    "            market = i['address']['market'],\n",
    "            country = i['address']['country'],\n",
    "            country_code = i['address']['country_code'],\n",
    "            latitude = latitude,  \n",
    "            longitude = longitude,  \n",
    "            property_type = i['property_type'], \n",
    "            room_type = i['room_type'],\n",
    "            bed_type = i['bed_type'],\n",
    "            minimum_nights = i['minimum_nights'],\n",
    "            maximum_nights = i['maximum_nights'],\n",
    "            cancellation_policy = i['cancellation_policy'],\n",
    "            accommodates = i['accommodates'],\n",
    "            bedrooms = i.get('bedrooms'),\n",
    "            beds = i.get('beds'),\n",
    "            bathrooms = i.get('bathrooms'),\n",
    "            price = i['price'],\n",
    "            security_deposit = i.get('security_deposit'),\n",
    "            cleaning_fee = i.get('cleaning_fee'),\n",
    "            extra_people = i['extra_people'],\n",
    "            guests_included = i['guests_included'],\n",
    "            picture_url = i['images']['picture_url'],\n",
    "            availability_30 = i['availability']['availability_30'],\n",
    "            availability_60 = i['availability']['availability_60'],\n",
    "            availability_90 = i['availability']['availability_90'],\n",
    "            availability_365 = i['availability']['availability_365'],\n",
    "            amenities = amenities_str  \n",
    "        )\n",
    "        listings.append(data)\n",
    "        \n",
    "    return listings\n"
   ]
  },
  {
   "cell_type": "code",
   "execution_count": 7,
   "metadata": {},
   "outputs": [],
   "source": [
    "df_listing_info = pd.DataFrame(listing_info())"
   ]
  },
  {
   "cell_type": "code",
   "execution_count": 8,
   "metadata": {},
   "outputs": [
    {
     "data": {
      "text/plain": [
       "listing_id                0\n",
       "listing_url               0\n",
       "name                      0\n",
       "description               0\n",
       "street                    0\n",
       "suburb                    0\n",
       "government_area           0\n",
       "market                    0\n",
       "country                   0\n",
       "country_code              0\n",
       "latitude                  0\n",
       "longitude                 0\n",
       "property_type             0\n",
       "room_type                 0\n",
       "bed_type                  0\n",
       "minimum_nights            0\n",
       "maximum_nights            0\n",
       "cancellation_policy       0\n",
       "accommodates              0\n",
       "bedrooms                  5\n",
       "beds                     13\n",
       "bathrooms                10\n",
       "price                     0\n",
       "security_deposit       2084\n",
       "cleaning_fee           1531\n",
       "extra_people              0\n",
       "guests_included           0\n",
       "picture_url               0\n",
       "availability_30           0\n",
       "availability_60           0\n",
       "availability_90           0\n",
       "availability_365          0\n",
       "amenities                 0\n",
       "dtype: int64"
      ]
     },
     "execution_count": 8,
     "metadata": {},
     "output_type": "execute_result"
    }
   ],
   "source": [
    "df_listing_info.isnull().sum()"
   ]
  },
  {
   "cell_type": "code",
   "execution_count": 9,
   "metadata": {},
   "outputs": [
    {
     "data": {
      "image/png": "[encoded data removed]",
      "text/plain": [
       "<Figure size 640x480 with 1 Axes>"
      ]
     },
     "metadata": {},
     "output_type": "display_data"
    }
   ],
   "source": [
    "# Histogram of a column to check for skewness\n",
    "\n",
    "df_listing_info['security_deposit'].hist(bins=50, color='blue', edgecolor='black')\n",
    "plt.title('Histogram of column_name')\n",
    "plt.xlabel('security_deposit')\n",
    "plt.ylabel('Frequency')\n",
    "plt.show()"
   ]
  },
  {
   "cell_type": "code",
   "execution_count": 10,
   "metadata": {},
   "outputs": [
    {
     "data": {
      "image/png": "[encoded data removed]",
      "text/plain": [
       "<Figure size 640x480 with 1 Axes>"
      ]
     },
     "metadata": {},
     "output_type": "display_data"
    }
   ],
   "source": [
    "df_listing_info['cleaning_fee'].hist(bins=50, color='blue', edgecolor='black')\n",
    "plt.title('Histogram of column_name')\n",
    "plt.xlabel('cleaning_fee')\n",
    "plt.ylabel('Frequency')\n",
    "plt.show()"
   ]
  },
  {
   "cell_type": "code",
   "execution_count": 11,
   "metadata": {},
   "outputs": [],
   "source": [
    "# Highly skewed data. Hence taking median instead of mean\n",
    "\n",
    "df_listing_info['security_deposit'] = df_listing_info['security_deposit'].fillna(df_listing_info['security_deposit'].median())\n",
    "df_listing_info['cleaning_fee'] = df_listing_info['cleaning_fee'].fillna(df_listing_info['cleaning_fee'].median())\n"
   ]
  },
  {
   "cell_type": "code",
   "execution_count": 12,
   "metadata": {},
   "outputs": [
    {
     "name": "stdout",
     "output_type": "stream",
     "text": [
      "bedrooms     3.101198\n",
      "beds         3.002075\n",
      "bathrooms    5.019227\n",
      "dtype: float64\n"
     ]
    }
   ],
   "source": [
    "# List of columns you want to check skewness for\n",
    "columns_to_check = ['bedrooms', 'beds', 'bathrooms']\n",
    "\n",
    "# Calculate skewness for the selected columns\n",
    "skewness_values = df_listing_info[columns_to_check].skew()\n",
    "\n",
    "# Display skewness values\n",
    "print(skewness_values)\n",
    "\n",
    "# Highly skewed data. For an normally distributed data the range cna be from -0.5 to +0.5.\n",
    "# So it better to take mode for missing values"
   ]
  },
  {
   "cell_type": "code",
   "execution_count": 13,
   "metadata": {},
   "outputs": [],
   "source": [
    "df_listing_info['bedrooms'] = df_listing_info['bedrooms'].fillna(df_listing_info['bedrooms'].mode()[0]).astype(int)\n",
    "df_listing_info['beds'] = df_listing_info['beds'].fillna(df_listing_info['beds'].mode()[0]).astype(int)\n",
    "df_listing_info['bathrooms'] = df_listing_info['bathrooms'].fillna(df_listing_info['bathrooms'].mode()[0]).astype(int)"
   ]
  },
  {
   "cell_type": "code",
   "execution_count": 14,
   "metadata": {},
   "outputs": [
    {
     "data": {
      "text/plain": [
       "listing_id             0\n",
       "listing_url            0\n",
       "name                   0\n",
       "description            0\n",
       "street                 0\n",
       "suburb                 0\n",
       "government_area        0\n",
       "market                 0\n",
       "country                0\n",
       "country_code           0\n",
       "latitude               0\n",
       "longitude              0\n",
       "property_type          0\n",
       "room_type              0\n",
       "bed_type               0\n",
       "minimum_nights         0\n",
       "maximum_nights         0\n",
       "cancellation_policy    0\n",
       "accommodates           0\n",
       "bedrooms               0\n",
       "beds                   0\n",
       "bathrooms              0\n",
       "price                  0\n",
       "security_deposit       0\n",
       "cleaning_fee           0\n",
       "extra_people           0\n",
       "guests_included        0\n",
       "picture_url            0\n",
       "availability_30        0\n",
       "availability_60        0\n",
       "availability_90        0\n",
       "availability_365       0\n",
       "amenities              0\n",
       "dtype: int64"
      ]
     },
     "execution_count": 14,
     "metadata": {},
     "output_type": "execute_result"
    }
   ],
   "source": [
    "df_listing_info.isnull().sum()"
   ]
  },
  {
   "cell_type": "code",
   "execution_count": 15,
   "metadata": {},
   "outputs": [
    {
     "name": "stdout",
     "output_type": "stream",
     "text": [
      "<class 'pandas.core.frame.DataFrame'>\n",
      "RangeIndex: 5555 entries, 0 to 5554\n",
      "Data columns (total 33 columns):\n",
      " #   Column               Non-Null Count  Dtype  \n",
      "---  ------               --------------  -----  \n",
      " 0   listing_id           5555 non-null   object \n",
      " 1   listing_url          5555 non-null   object \n",
      " 2   name                 5555 non-null   object \n",
      " 3   description          5555 non-null   object \n",
      " 4   street               5555 non-null   object \n",
      " 5   suburb               5555 non-null   object \n",
      " 6   government_area      5555 non-null   object \n",
      " 7   market               5555 non-null   object \n",
      " 8   country              5555 non-null   object \n",
      " 9   country_code         5555 non-null   object \n",
      " 10  latitude             5555 non-null   float64\n",
      " 11  longitude            5555 non-null   float64\n",
      " 12  property_type        5555 non-null   object \n",
      " 13  room_type            5555 non-null   object \n",
      " 14  bed_type             5555 non-null   object \n",
      " 15  minimum_nights       5555 non-null   object \n",
      " 16  maximum_nights       5555 non-null   object \n",
      " 17  cancellation_policy  5555 non-null   object \n",
      " 18  accommodates         5555 non-null   int64  \n",
      " 19  bedrooms             5555 non-null   int64  \n",
      " 20  beds                 5555 non-null   int64  \n",
      " 21  bathrooms            5555 non-null   int64  \n",
      " 22  price                5555 non-null   float64\n",
      " 23  security_deposit     5555 non-null   float64\n",
      " 24  cleaning_fee         5555 non-null   float64\n",
      " 25  extra_people         5555 non-null   float64\n",
      " 26  guests_included      5555 non-null   float64\n",
      " 27  picture_url          5555 non-null   object \n",
      " 28  availability_30      5555 non-null   int64  \n",
      " 29  availability_60      5555 non-null   int64  \n",
      " 30  availability_90      5555 non-null   int64  \n",
      " 31  availability_365     5555 non-null   int64  \n",
      " 32  amenities            5555 non-null   object \n",
      "dtypes: float64(7), int64(8), object(18)\n",
      "memory usage: 1.4+ MB\n"
     ]
    }
   ],
   "source": [
    "df_listing_info.info()"
   ]
  },
  {
   "cell_type": "code",
   "execution_count": 16,
   "metadata": {},
   "outputs": [],
   "source": [
    "# Convert to appropriate data types\n",
    "\n",
    "df_listing_info['minimum_nights'] = df_listing_info['minimum_nights'].astype(int)\n",
    "df_listing_info['maximum_nights'] = df_listing_info['maximum_nights'].astype(int)\n",
    "df_listing_info['bedrooms'] = df_listing_info['bedrooms'].astype(int)\n",
    "df_listing_info['beds'] = df_listing_info['beds'].astype(int)\n",
    "df_listing_info['bathrooms'] = df_listing_info['bathrooms'].astype(int)\n",
    "df_listing_info['extra_people'] = df_listing_info['extra_people'].astype(int)\n",
    "df_listing_info['guests_included'] = df_listing_info['guests_included'].astype(int)"
   ]
  },
  {
   "cell_type": "code",
   "execution_count": 17,
   "metadata": {},
   "outputs": [
    {
     "name": "stdout",
     "output_type": "stream",
     "text": [
      "<class 'pandas.core.frame.DataFrame'>\n",
      "RangeIndex: 5555 entries, 0 to 5554\n",
      "Data columns (total 33 columns):\n",
      " #   Column               Non-Null Count  Dtype  \n",
      "---  ------               --------------  -----  \n",
      " 0   listing_id           5555 non-null   object \n",
      " 1   listing_url          5555 non-null   object \n",
      " 2   name                 5555 non-null   object \n",
      " 3   description          5555 non-null   object \n",
      " 4   street               5555 non-null   object \n",
      " 5   suburb               5555 non-null   object \n",
      " 6   government_area      5555 non-null   object \n",
      " 7   market               5555 non-null   object \n",
      " 8   country              5555 non-null   object \n",
      " 9   country_code         5555 non-null   object \n",
      " 10  latitude             5555 non-null   float64\n",
      " 11  longitude            5555 non-null   float64\n",
      " 12  property_type        5555 non-null   object \n",
      " 13  room_type            5555 non-null   object \n",
      " 14  bed_type             5555 non-null   object \n",
      " 15  minimum_nights       5555 non-null   int64  \n",
      " 16  maximum_nights       5555 non-null   int64  \n",
      " 17  cancellation_policy  5555 non-null   object \n",
      " 18  accommodates         5555 non-null   int64  \n",
      " 19  bedrooms             5555 non-null   int64  \n",
      " 20  beds                 5555 non-null   int64  \n",
      " 21  bathrooms            5555 non-null   int64  \n",
      " 22  price                5555 non-null   float64\n",
      " 23  security_deposit     5555 non-null   float64\n",
      " 24  cleaning_fee         5555 non-null   float64\n",
      " 25  extra_people         5555 non-null   int64  \n",
      " 26  guests_included      5555 non-null   int64  \n",
      " 27  picture_url          5555 non-null   object \n",
      " 28  availability_30      5555 non-null   int64  \n",
      " 29  availability_60      5555 non-null   int64  \n",
      " 30  availability_90      5555 non-null   int64  \n",
      " 31  availability_365     5555 non-null   int64  \n",
      " 32  amenities            5555 non-null   object \n",
      "dtypes: float64(5), int64(12), object(16)\n",
      "memory usage: 1.4+ MB\n"
     ]
    }
   ],
   "source": [
    "df_listing_info.info()"
   ]
  },
  {
   "cell_type": "code",
   "execution_count": 18,
   "metadata": {},
   "outputs": [
    {
     "data": {
      "text/plain": [
       "np.int64(0)"
      ]
     },
     "execution_count": 18,
     "metadata": {},
     "output_type": "execute_result"
    }
   ],
   "source": [
    "df_listing_info.duplicated().sum()\n",
    "# No duplicate rows as well"
   ]
  },
  {
   "cell_type": "code",
   "execution_count": 19,
   "metadata": {},
   "outputs": [],
   "source": [
    "def host_info():\n",
    "    host = []\n",
    "    \n",
    "    for i in airbnb_data:\n",
    "        # Convert host_verifications list to a comma-separated string\n",
    "        host_verifications = ', '.join(i['host']['host_verifications'])\n",
    "        \n",
    "        data = dict(\n",
    "            listing_id=i['_id'],\n",
    "            host_id=i['host']['host_id'],\n",
    "            host_url=i['host']['host_url'],\n",
    "            host_name=i['host']['host_name'],\n",
    "            host_location=i['host']['host_location'],\n",
    "            host_about=i['host']['host_about'],\n",
    "            host_response_time = i['host'].get('host_response_time'),\n",
    "            host_response_rate=i['host'].get('host_response_rate'),\n",
    "            host_picture_url=i['host']['host_picture_url'],\n",
    "            host_is_superhost=i['host']['host_is_superhost'],\n",
    "            host_has_profile_pic = i['host']['host_has_profile_pic'],\n",
    "            host_identity_verified = i['host']['host_identity_verified'],\n",
    "            host_total_listings=i['host']['host_total_listings_count'],\n",
    "            host_verifications=host_verifications\n",
    "        )\n",
    "        host.append(data)\n",
    "        \n",
    "    return host\n"
   ]
  },
  {
   "cell_type": "code",
   "execution_count": 20,
   "metadata": {},
   "outputs": [],
   "source": [
    "df_host_info = pd.DataFrame(host_info()) "
   ]
  },
  {
   "cell_type": "code",
   "execution_count": 21,
   "metadata": {},
   "outputs": [
    {
     "data": {
      "text/plain": [
       "listing_id                   0\n",
       "host_id                      0\n",
       "host_url                     0\n",
       "host_name                    0\n",
       "host_location                0\n",
       "host_about                   0\n",
       "host_response_time        1388\n",
       "host_response_rate        1388\n",
       "host_picture_url             0\n",
       "host_is_superhost            0\n",
       "host_has_profile_pic         0\n",
       "host_identity_verified       0\n",
       "host_total_listings          0\n",
       "host_verifications           0\n",
       "dtype: int64"
      ]
     },
     "execution_count": 21,
     "metadata": {},
     "output_type": "execute_result"
    }
   ],
   "source": [
    "df_host_info.isnull().sum()"
   ]
  },
  {
   "cell_type": "code",
   "execution_count": 22,
   "metadata": {},
   "outputs": [
    {
     "data": {
      "image/png": "[encoded data removed]",
      "text/plain": [
       "<Figure size 640x480 with 1 Axes>"
      ]
     },
     "metadata": {},
     "output_type": "display_data"
    }
   ],
   "source": [
    "df_host_info['host_response_rate'].hist(bins=50, color='blue', edgecolor='black')\n",
    "plt.xlabel('host_response_rate')\n",
    "plt.ylabel('Frequency')\n",
    "plt.show()"
   ]
  },
  {
   "cell_type": "code",
   "execution_count": 23,
   "metadata": {},
   "outputs": [],
   "source": [
    "df_host_info['host_response_rate'] = df_host_info['host_response_rate'].fillna(df_host_info['host_response_rate'].median())"
   ]
  },
  {
   "cell_type": "code",
   "execution_count": 24,
   "metadata": {},
   "outputs": [],
   "source": [
    "df_host_info['host_response_time'] = df_host_info['host_response_time'].fillna(df_host_info['host_response_time'].mode()[0])"
   ]
  },
  {
   "cell_type": "code",
   "execution_count": 25,
   "metadata": {},
   "outputs": [
    {
     "data": {
      "text/plain": [
       "listing_id                0\n",
       "host_id                   0\n",
       "host_url                  0\n",
       "host_name                 0\n",
       "host_location             0\n",
       "host_about                0\n",
       "host_response_time        0\n",
       "host_response_rate        0\n",
       "host_picture_url          0\n",
       "host_is_superhost         0\n",
       "host_has_profile_pic      0\n",
       "host_identity_verified    0\n",
       "host_total_listings       0\n",
       "host_verifications        0\n",
       "dtype: int64"
      ]
     },
     "execution_count": 25,
     "metadata": {},
     "output_type": "execute_result"
    }
   ],
   "source": [
    "df_host_info.isnull().sum()"
   ]
  },
  {
   "cell_type": "code",
   "execution_count": 26,
   "metadata": {},
   "outputs": [
    {
     "data": {
      "text/plain": [
       "np.int64(0)"
      ]
     },
     "execution_count": 26,
     "metadata": {},
     "output_type": "execute_result"
    }
   ],
   "source": [
    "df_host_info.duplicated().sum()"
   ]
  },
  {
   "cell_type": "code",
   "execution_count": 27,
   "metadata": {},
   "outputs": [
    {
     "name": "stdout",
     "output_type": "stream",
     "text": [
      "<class 'pandas.core.frame.DataFrame'>\n",
      "RangeIndex: 5555 entries, 0 to 5554\n",
      "Data columns (total 14 columns):\n",
      " #   Column                  Non-Null Count  Dtype  \n",
      "---  ------                  --------------  -----  \n",
      " 0   listing_id              5555 non-null   object \n",
      " 1   host_id                 5555 non-null   object \n",
      " 2   host_url                5555 non-null   object \n",
      " 3   host_name               5555 non-null   object \n",
      " 4   host_location           5555 non-null   object \n",
      " 5   host_about              5555 non-null   object \n",
      " 6   host_response_time      5555 non-null   object \n",
      " 7   host_response_rate      5555 non-null   float64\n",
      " 8   host_picture_url        5555 non-null   object \n",
      " 9   host_is_superhost       5555 non-null   bool   \n",
      " 10  host_has_profile_pic    5555 non-null   bool   \n",
      " 11  host_identity_verified  5555 non-null   bool   \n",
      " 12  host_total_listings     5555 non-null   int64  \n",
      " 13  host_verifications      5555 non-null   object \n",
      "dtypes: bool(3), float64(1), int64(1), object(9)\n",
      "memory usage: 493.8+ KB\n"
     ]
    }
   ],
   "source": [
    "df_host_info.info()"
   ]
  },
  {
   "cell_type": "code",
   "execution_count": 28,
   "metadata": {},
   "outputs": [
    {
     "data": {
      "text/html": [
       "<div>\n",
       "<style scoped>\n",
       "    .dataframe tbody tr th:only-of-type {\n",
       "        vertical-align: middle;\n",
       "    }\n",
       "\n",
       "    .dataframe tbody tr th {\n",
       "        vertical-align: top;\n",
       "    }\n",
       "\n",
       "    .dataframe thead th {\n",
       "        text-align: right;\n",
       "    }\n",
       "</style>\n",
       "<table border=\"1\" class=\"dataframe\">\n",
       "  <thead>\n",
       "    <tr style=\"text-align: right;\">\n",
       "      <th></th>\n",
       "      <th>listing_id</th>\n",
       "      <th>host_id</th>\n",
       "      <th>host_url</th>\n",
       "      <th>host_name</th>\n",
       "      <th>host_location</th>\n",
       "      <th>host_about</th>\n",
       "      <th>host_response_time</th>\n",
       "      <th>host_response_rate</th>\n",
       "      <th>host_picture_url</th>\n",
       "      <th>host_is_superhost</th>\n",
       "      <th>host_has_profile_pic</th>\n",
       "      <th>host_identity_verified</th>\n",
       "      <th>host_total_listings</th>\n",
       "      <th>host_verifications</th>\n",
       "    </tr>\n",
       "  </thead>\n",
       "  <tbody>\n",
       "    <tr>\n",
       "      <th>0</th>\n",
       "      <td>1003530</td>\n",
       "      <td>454250</td>\n",
       "      <td>https://www.airbnb.com/users/show/454250</td>\n",
       "      <td>Greta</td>\n",
       "      <td>New York, New York, United States</td>\n",
       "      <td>By now I have lived longer in the city than th...</td>\n",
       "      <td>within an hour</td>\n",
       "      <td>100.0</td>\n",
       "      <td>https://a0.muscache.com/im/pictures/f1022be4-e...</td>\n",
       "      <td>True</td>\n",
       "      <td>True</td>\n",
       "      <td>True</td>\n",
       "      <td>3</td>\n",
       "      <td>email, phone, reviews, jumio, offline_governme...</td>\n",
       "    </tr>\n",
       "    <tr>\n",
       "      <th>1</th>\n",
       "      <td>10133554</td>\n",
       "      <td>52004703</td>\n",
       "      <td>https://www.airbnb.com/users/show/52004703</td>\n",
       "      <td>Mehmet Emin</td>\n",
       "      <td>Istanbul, İstanbul, Turkey</td>\n",
       "      <td></td>\n",
       "      <td>within a few hours</td>\n",
       "      <td>100.0</td>\n",
       "      <td>https://a0.muscache.com/im/pictures/user/4cb6b...</td>\n",
       "      <td>False</td>\n",
       "      <td>True</td>\n",
       "      <td>True</td>\n",
       "      <td>2</td>\n",
       "      <td>email, phone, facebook, reviews, jumio, offlin...</td>\n",
       "    </tr>\n",
       "  </tbody>\n",
       "</table>\n",
       "</div>"
      ],
      "text/plain": [
       "  listing_id   host_id                                    host_url  \\\n",
       "0    1003530    454250    https://www.airbnb.com/users/show/454250   \n",
       "1   10133554  52004703  https://www.airbnb.com/users/show/52004703   \n",
       "\n",
       "     host_name                      host_location  \\\n",
       "0        Greta  New York, New York, United States   \n",
       "1  Mehmet Emin         Istanbul, İstanbul, Turkey   \n",
       "\n",
       "                                          host_about  host_response_time  \\\n",
       "0  By now I have lived longer in the city than th...      within an hour   \n",
       "1                                                     within a few hours   \n",
       "\n",
       "   host_response_rate                                   host_picture_url  \\\n",
       "0               100.0  https://a0.muscache.com/im/pictures/f1022be4-e...   \n",
       "1               100.0  https://a0.muscache.com/im/pictures/user/4cb6b...   \n",
       "\n",
       "   host_is_superhost  host_has_profile_pic  host_identity_verified  \\\n",
       "0               True                  True                    True   \n",
       "1              False                  True                    True   \n",
       "\n",
       "   host_total_listings                                 host_verifications  \n",
       "0                    3  email, phone, reviews, jumio, offline_governme...  \n",
       "1                    2  email, phone, facebook, reviews, jumio, offlin...  "
      ]
     },
     "execution_count": 28,
     "metadata": {},
     "output_type": "execute_result"
    }
   ],
   "source": [
    "df_host_info.head(2)"
   ]
  },
  {
   "cell_type": "code",
   "execution_count": 29,
   "metadata": {},
   "outputs": [],
   "source": [
    "def review_info():\n",
    "\n",
    "    review_data=[]\n",
    "\n",
    "    for i in airbnb_data:\n",
    "        data=dict(\n",
    "            listing_id=i['_id'],\n",
    "            first_review=i.get('first_review'),\n",
    "            last_review=i.get('last_review'),\n",
    "            number_of_reviews=i['number_of_reviews'],\n",
    "            accuracy_score=i['review_scores'].get('review_scores_accuracy'),\n",
    "            cleanliness_score=i['review_scores'].get('review_scores_cleanliness'),\n",
    "            checkin_score=i['review_scores'].get('review_scores_checkin'),\n",
    "            communication_score=i['review_scores'].get('review_scores_communication'),\n",
    "            location_score=i['review_scores'].get('review_scores_communication'),\n",
    "            value_score=i['review_scores'].get('review_scores_value'),\n",
    "            rating=i['review_scores'].get('review_scores_rating')\n",
    "        )\n",
    "        review_data.append(data)\n",
    "\n",
    "    \n",
    "    return review_data"
   ]
  },
  {
   "cell_type": "code",
   "execution_count": 30,
   "metadata": {},
   "outputs": [],
   "source": [
    "df_review_info = pd.DataFrame(review_info())"
   ]
  },
  {
   "cell_type": "code",
   "execution_count": 31,
   "metadata": {},
   "outputs": [
    {
     "data": {
      "text/plain": [
       "listing_id                0\n",
       "first_review           1388\n",
       "last_review            1388\n",
       "number_of_reviews         0\n",
       "accuracy_score         1476\n",
       "cleanliness_score      1473\n",
       "checkin_score          1475\n",
       "communication_score    1474\n",
       "location_score         1474\n",
       "value_score            1475\n",
       "rating                 1474\n",
       "dtype: int64"
      ]
     },
     "execution_count": 31,
     "metadata": {},
     "output_type": "execute_result"
    }
   ],
   "source": [
    "df_review_info.isnull().sum()"
   ]
  },
  {
   "cell_type": "code",
   "execution_count": 32,
   "metadata": {},
   "outputs": [
    {
     "name": "stdout",
     "output_type": "stream",
     "text": [
      "accuracy_score        -3.994755\n",
      "cleanliness_score     -2.990649\n",
      "checkin_score         -4.754374\n",
      "communication_score   -4.990911\n",
      "location_score        -4.990911\n",
      "value_score           -2.975530\n",
      "rating                -3.526784\n",
      "dtype: float64\n"
     ]
    }
   ],
   "source": [
    "# List of columns you want to check skewness for\n",
    "columns_to_check = ['accuracy_score', 'cleanliness_score', 'checkin_score', \n",
    "                    'communication_score', 'location_score', 'value_score', \n",
    "                    'rating']\n",
    "\n",
    "# Calculate skewness for the selected columns\n",
    "skewness_values = df_review_info[columns_to_check].skew()\n",
    "\n",
    "# Display skewness values\n",
    "print(skewness_values)"
   ]
  },
  {
   "cell_type": "code",
   "execution_count": 33,
   "metadata": {},
   "outputs": [],
   "source": [
    "df_review_info['first_review'] = df_review_info['first_review'].fillna(df_review_info['first_review'].mode()[0])\n",
    "df_review_info['last_review'] = df_review_info['last_review'].fillna(df_review_info['last_review'].mode()[0])\n",
    "df_review_info['accuracy_score'] = df_review_info['accuracy_score'].fillna(df_review_info['accuracy_score'].median())\n",
    "df_review_info['cleanliness_score'] = df_review_info['cleanliness_score'].fillna(df_review_info['cleanliness_score'].median())\n",
    "df_review_info['checkin_score'] = df_review_info['checkin_score'].fillna(df_review_info['checkin_score'].median())\n",
    "df_review_info['communication_score'] = df_review_info['communication_score'].fillna(df_review_info['communication_score'].median())\n",
    "df_review_info['location_score'] = df_review_info['location_score'].fillna(df_review_info['location_score'].median())\n",
    "df_review_info['value_score'] = df_review_info['value_score'].fillna(df_review_info['value_score'].median())\n",
    "df_review_info['rating'] = df_review_info['rating'].fillna(df_review_info['rating'].median())"
   ]
  },
  {
   "cell_type": "code",
   "execution_count": 34,
   "metadata": {},
   "outputs": [
    {
     "data": {
      "text/plain": [
       "listing_id             0\n",
       "first_review           0\n",
       "last_review            0\n",
       "number_of_reviews      0\n",
       "accuracy_score         0\n",
       "cleanliness_score      0\n",
       "checkin_score          0\n",
       "communication_score    0\n",
       "location_score         0\n",
       "value_score            0\n",
       "rating                 0\n",
       "dtype: int64"
      ]
     },
     "execution_count": 34,
     "metadata": {},
     "output_type": "execute_result"
    }
   ],
   "source": [
    "df_review_info.isnull().sum()"
   ]
  },
  {
   "cell_type": "code",
   "execution_count": 35,
   "metadata": {},
   "outputs": [
    {
     "name": "stdout",
     "output_type": "stream",
     "text": [
      "<class 'pandas.core.frame.DataFrame'>\n",
      "RangeIndex: 5555 entries, 0 to 5554\n",
      "Data columns (total 11 columns):\n",
      " #   Column               Non-Null Count  Dtype  \n",
      "---  ------               --------------  -----  \n",
      " 0   listing_id           5555 non-null   object \n",
      " 1   first_review         5555 non-null   object \n",
      " 2   last_review          5555 non-null   object \n",
      " 3   number_of_reviews    5555 non-null   int64  \n",
      " 4   accuracy_score       5555 non-null   float64\n",
      " 5   cleanliness_score    5555 non-null   float64\n",
      " 6   checkin_score        5555 non-null   float64\n",
      " 7   communication_score  5555 non-null   float64\n",
      " 8   location_score       5555 non-null   float64\n",
      " 9   value_score          5555 non-null   float64\n",
      " 10  rating               5555 non-null   float64\n",
      "dtypes: float64(7), int64(1), object(3)\n",
      "memory usage: 477.5+ KB\n"
     ]
    }
   ],
   "source": [
    "df_review_info.info()"
   ]
  },
  {
   "cell_type": "code",
   "execution_count": 36,
   "metadata": {},
   "outputs": [],
   "source": [
    "df_review_info['first_review'] = pd.to_datetime(df_review_info['first_review'], errors='coerce')\n",
    "df_review_info['last_review'] = pd.to_datetime(df_review_info['last_review'], errors='coerce')\n",
    "df_review_info['accuracy_score'] = df_review_info['accuracy_score'].astype(int)\n",
    "df_review_info['cleanliness_score'] = df_review_info['cleanliness_score'].astype(int)\n",
    "df_review_info['checkin_score'] = df_review_info['checkin_score'].astype(int)\n",
    "df_review_info['communication_score'] = df_review_info['communication_score'].astype(int)\n",
    "df_review_info['location_score'] = df_review_info['location_score'].astype(int)\n",
    "df_review_info['value_score'] = df_review_info['value_score'].astype(int)\n",
    "df_review_info['rating'] = df_review_info['rating'].astype(int)"
   ]
  },
  {
   "cell_type": "code",
   "execution_count": 37,
   "metadata": {},
   "outputs": [
    {
     "name": "stdout",
     "output_type": "stream",
     "text": [
      "<class 'pandas.core.frame.DataFrame'>\n",
      "RangeIndex: 5555 entries, 0 to 5554\n",
      "Data columns (total 11 columns):\n",
      " #   Column               Non-Null Count  Dtype         \n",
      "---  ------               --------------  -----         \n",
      " 0   listing_id           5555 non-null   object        \n",
      " 1   first_review         5555 non-null   datetime64[ns]\n",
      " 2   last_review          5555 non-null   datetime64[ns]\n",
      " 3   number_of_reviews    5555 non-null   int64         \n",
      " 4   accuracy_score       5555 non-null   int64         \n",
      " 5   cleanliness_score    5555 non-null   int64         \n",
      " 6   checkin_score        5555 non-null   int64         \n",
      " 7   communication_score  5555 non-null   int64         \n",
      " 8   location_score       5555 non-null   int64         \n",
      " 9   value_score          5555 non-null   int64         \n",
      " 10  rating               5555 non-null   int64         \n",
      "dtypes: datetime64[ns](2), int64(8), object(1)\n",
      "memory usage: 477.5+ KB\n"
     ]
    }
   ],
   "source": [
    "df_review_info.info()"
   ]
  },
  {
   "cell_type": "code",
   "execution_count": 38,
   "metadata": {},
   "outputs": [
    {
     "data": {
      "text/html": [
       "<div>\n",
       "<style scoped>\n",
       "    .dataframe tbody tr th:only-of-type {\n",
       "        vertical-align: middle;\n",
       "    }\n",
       "\n",
       "    .dataframe tbody tr th {\n",
       "        vertical-align: top;\n",
       "    }\n",
       "\n",
       "    .dataframe thead th {\n",
       "        text-align: right;\n",
       "    }\n",
       "</style>\n",
       "<table border=\"1\" class=\"dataframe\">\n",
       "  <thead>\n",
       "    <tr style=\"text-align: right;\">\n",
       "      <th></th>\n",
       "      <th>listing_id</th>\n",
       "      <th>first_review</th>\n",
       "      <th>last_review</th>\n",
       "      <th>number_of_reviews</th>\n",
       "      <th>accuracy_score</th>\n",
       "      <th>cleanliness_score</th>\n",
       "      <th>checkin_score</th>\n",
       "      <th>communication_score</th>\n",
       "      <th>location_score</th>\n",
       "      <th>value_score</th>\n",
       "      <th>rating</th>\n",
       "    </tr>\n",
       "  </thead>\n",
       "  <tbody>\n",
       "    <tr>\n",
       "      <th>0</th>\n",
       "      <td>1003530</td>\n",
       "      <td>2013-04-29 04:00:00</td>\n",
       "      <td>2018-08-12 04:00:00</td>\n",
       "      <td>70</td>\n",
       "      <td>10</td>\n",
       "      <td>9</td>\n",
       "      <td>10</td>\n",
       "      <td>10</td>\n",
       "      <td>10</td>\n",
       "      <td>10</td>\n",
       "      <td>94</td>\n",
       "    </tr>\n",
       "    <tr>\n",
       "      <th>1</th>\n",
       "      <td>10133554</td>\n",
       "      <td>2017-05-04 04:00:00</td>\n",
       "      <td>2018-05-07 04:00:00</td>\n",
       "      <td>29</td>\n",
       "      <td>9</td>\n",
       "      <td>9</td>\n",
       "      <td>10</td>\n",
       "      <td>10</td>\n",
       "      <td>10</td>\n",
       "      <td>9</td>\n",
       "      <td>92</td>\n",
       "    </tr>\n",
       "  </tbody>\n",
       "</table>\n",
       "</div>"
      ],
      "text/plain": [
       "  listing_id        first_review         last_review  number_of_reviews  \\\n",
       "0    1003530 2013-04-29 04:00:00 2018-08-12 04:00:00                 70   \n",
       "1   10133554 2017-05-04 04:00:00 2018-05-07 04:00:00                 29   \n",
       "\n",
       "   accuracy_score  cleanliness_score  checkin_score  communication_score  \\\n",
       "0              10                  9             10                   10   \n",
       "1               9                  9             10                   10   \n",
       "\n",
       "   location_score  value_score  rating  \n",
       "0              10           10      94  \n",
       "1              10            9      92  "
      ]
     },
     "execution_count": 38,
     "metadata": {},
     "output_type": "execute_result"
    }
   ],
   "source": [
    "df_review_info.head(2)"
   ]
  },
  {
   "cell_type": "code",
   "execution_count": 39,
   "metadata": {},
   "outputs": [],
   "source": [
    "def review_comments_info():\n",
    "\n",
    "    comments_data=[]\n",
    "\n",
    "    for j in airbnb_data:\n",
    "        r_list=j.get('reviews',[])\n",
    "        for i in r_list:\n",
    "            data=dict(\n",
    "                listing_id=i.get('listing_id'),\n",
    "                comment_id=i.get('_id'),\n",
    "                date=i.get('date'),                \n",
    "                reviewer_name=i.get('reviewer_name'),\n",
    "                comments=i.get('comments')\n",
    "                )\n",
    "            comments_data.append(data)\n",
    "    \n",
    "    return comments_data"
   ]
  },
  {
   "cell_type": "code",
   "execution_count": 40,
   "metadata": {},
   "outputs": [],
   "source": [
    "df_comments_info = pd.DataFrame(review_comments_info())"
   ]
  },
  {
   "cell_type": "code",
   "execution_count": 41,
   "metadata": {},
   "outputs": [
    {
     "data": {
      "text/plain": [
       "listing_id       0\n",
       "comment_id       0\n",
       "date             0\n",
       "reviewer_name    1\n",
       "comments         8\n",
       "dtype: int64"
      ]
     },
     "execution_count": 41,
     "metadata": {},
     "output_type": "execute_result"
    }
   ],
   "source": [
    "df_comments_info.isnull().sum()"
   ]
  },
  {
   "cell_type": "code",
   "execution_count": 42,
   "metadata": {},
   "outputs": [],
   "source": [
    "df_comments_info = df_comments_info.fillna('Not Available')"
   ]
  },
  {
   "cell_type": "code",
   "execution_count": 43,
   "metadata": {},
   "outputs": [
    {
     "data": {
      "text/plain": [
       "listing_id       0\n",
       "comment_id       0\n",
       "date             0\n",
       "reviewer_name    0\n",
       "comments         0\n",
       "dtype: int64"
      ]
     },
     "execution_count": 43,
     "metadata": {},
     "output_type": "execute_result"
    }
   ],
   "source": [
    "df_comments_info.isnull().sum()"
   ]
  },
  {
   "cell_type": "code",
   "execution_count": 44,
   "metadata": {},
   "outputs": [
    {
     "name": "stdout",
     "output_type": "stream",
     "text": [
      "<class 'pandas.core.frame.DataFrame'>\n",
      "RangeIndex: 149792 entries, 0 to 149791\n",
      "Data columns (total 5 columns):\n",
      " #   Column         Non-Null Count   Dtype \n",
      "---  ------         --------------   ----- \n",
      " 0   listing_id     149792 non-null  object\n",
      " 1   comment_id     149792 non-null  object\n",
      " 2   date           149792 non-null  object\n",
      " 3   reviewer_name  149792 non-null  object\n",
      " 4   comments       149792 non-null  object\n",
      "dtypes: object(5)\n",
      "memory usage: 5.7+ MB\n"
     ]
    }
   ],
   "source": [
    "df_comments_info.info()"
   ]
  },
  {
   "cell_type": "code",
   "execution_count": 45,
   "metadata": {},
   "outputs": [],
   "source": [
    "df_comments_info['date'] = pd.to_datetime(df_comments_info['date'])"
   ]
  },
  {
   "cell_type": "code",
   "execution_count": 46,
   "metadata": {},
   "outputs": [
    {
     "name": "stdout",
     "output_type": "stream",
     "text": [
      "<class 'pandas.core.frame.DataFrame'>\n",
      "RangeIndex: 149792 entries, 0 to 149791\n",
      "Data columns (total 5 columns):\n",
      " #   Column         Non-Null Count   Dtype         \n",
      "---  ------         --------------   -----         \n",
      " 0   listing_id     149792 non-null  object        \n",
      " 1   comment_id     149792 non-null  object        \n",
      " 2   date           149792 non-null  datetime64[ns]\n",
      " 3   reviewer_name  149792 non-null  object        \n",
      " 4   comments       149792 non-null  object        \n",
      "dtypes: datetime64[ns](1), object(4)\n",
      "memory usage: 5.7+ MB\n"
     ]
    }
   ],
   "source": [
    "df_comments_info.info()"
   ]
  },
  {
   "cell_type": "code",
   "execution_count": 47,
   "metadata": {},
   "outputs": [
    {
     "data": {
      "text/html": [
       "<div>\n",
       "<style scoped>\n",
       "    .dataframe tbody tr th:only-of-type {\n",
       "        vertical-align: middle;\n",
       "    }\n",
       "\n",
       "    .dataframe tbody tr th {\n",
       "        vertical-align: top;\n",
       "    }\n",
       "\n",
       "    .dataframe thead th {\n",
       "        text-align: right;\n",
       "    }\n",
       "</style>\n",
       "<table border=\"1\" class=\"dataframe\">\n",
       "  <thead>\n",
       "    <tr style=\"text-align: right;\">\n",
       "      <th></th>\n",
       "      <th>listing_id</th>\n",
       "      <th>comment_id</th>\n",
       "      <th>date</th>\n",
       "      <th>reviewer_name</th>\n",
       "      <th>comments</th>\n",
       "    </tr>\n",
       "  </thead>\n",
       "  <tbody>\n",
       "    <tr>\n",
       "      <th>0</th>\n",
       "      <td>1003530</td>\n",
       "      <td>4351675</td>\n",
       "      <td>2013-04-29 04:00:00</td>\n",
       "      <td>Josh</td>\n",
       "      <td>i had a really pleasant stay at greta's place....</td>\n",
       "    </tr>\n",
       "    <tr>\n",
       "      <th>1</th>\n",
       "      <td>1003530</td>\n",
       "      <td>4848277</td>\n",
       "      <td>2013-05-28 04:00:00</td>\n",
       "      <td>Ralf</td>\n",
       "      <td>Greta has been a great host, and her apartment...</td>\n",
       "    </tr>\n",
       "    <tr>\n",
       "      <th>2</th>\n",
       "      <td>1003530</td>\n",
       "      <td>5094175</td>\n",
       "      <td>2013-06-11 04:00:00</td>\n",
       "      <td>Mame</td>\n",
       "      <td>Greta was wonderful. We arrived late at night ...</td>\n",
       "    </tr>\n",
       "  </tbody>\n",
       "</table>\n",
       "</div>"
      ],
      "text/plain": [
       "  listing_id comment_id                date reviewer_name  \\\n",
       "0    1003530    4351675 2013-04-29 04:00:00          Josh   \n",
       "1    1003530    4848277 2013-05-28 04:00:00          Ralf   \n",
       "2    1003530    5094175 2013-06-11 04:00:00          Mame   \n",
       "\n",
       "                                            comments  \n",
       "0  i had a really pleasant stay at greta's place....  \n",
       "1  Greta has been a great host, and her apartment...  \n",
       "2  Greta was wonderful. We arrived late at night ...  "
      ]
     },
     "execution_count": 47,
     "metadata": {},
     "output_type": "execute_result"
    }
   ],
   "source": [
    "df_comments_info.head(3)"
   ]
  },
  {
   "cell_type": "code",
   "execution_count": 48,
   "metadata": {},
   "outputs": [],
   "source": [
    "# ========================================================================================="
   ]
  },
  {
   "cell_type": "code",
   "execution_count": 49,
   "metadata": {},
   "outputs": [],
   "source": [
    "# df_listing_info, df_host_info, df_review_info, df_comments_info"
   ]
  },
  {
   "cell_type": "code",
   "execution_count": 50,
   "metadata": {},
   "outputs": [],
   "source": [
    "# # Converting DataFrames to Excel\n",
    "# import openpyxl\n",
    "# with pd.ExcelWriter('Extracted_tables.xlsx') as writer:\n",
    "#     df_listing_info.to_excel(writer, sheet_name='df_listing_info')\n",
    "#     df_host_info.to_excel(writer, sheet_name='df_host_info')\n",
    "#     df_review_info.to_excel(writer, sheet_name='df_review_info')\n",
    "#     df_comments_info.to_excel(writer, sheet_name='df_comments_info')\n",
    "    "
   ]
  },
  {
   "cell_type": "code",
   "execution_count": 51,
   "metadata": {},
   "outputs": [],
   "source": [
    "# # Converting to CSVs\n",
    "# df_listing_info.to_csv('df_listing_info.csv',index=False)\n",
    "# df_host_info.to_csv('df_host_info.csv',index=False)\n",
    "# df_review_info.to_csv('df_review_info.csv',index=False)\n",
    "# df_comments_info.to_csv('df_comments_info.csv',index=False)\n"
   ]
  },
  {
   "cell_type": "code",
   "execution_count": 52,
   "metadata": {},
   "outputs": [
    {
     "name": "stdout",
     "output_type": "stream",
     "text": [
      "Database 'AIRBNB_PROJECT_LATEST' created or already exists.\n",
      "Inserting listing_info into MySQL database...\n",
      "Data inserted into listing_info.\n",
      "Inserting host_info into MySQL database...\n",
      "Data inserted into host_info.\n",
      "Inserting review_info into MySQL database...\n",
      "Data inserted into review_info.\n",
      "Inserting comments_info into MySQL database...\n",
      "Data inserted into comments_info.\n"
     ]
    }
   ],
   "source": [
    "import mysql.connector\n",
    "from sqlalchemy import create_engine\n",
    "import pandas as pd  \n",
    "\n",
    "# MySQL Credentials\n",
    "u_name = 'root'\n",
    "u_pass = '1000Shaik#1'\n",
    "host_name = 'localhost'\n",
    "port = 3306\n",
    "database_name = 'AIRBNB_PROJECT_LATEST'\n",
    "\n",
    "# Helper function to create and return a MySQL connection\n",
    "def create_mysql_connection(database=None):\n",
    "    try:\n",
    "        if database:\n",
    "            connection = mysql.connector.connect(\n",
    "                host=host_name, user=u_name, passwd=u_pass, db=database)\n",
    "        else:\n",
    "            connection = mysql.connector.connect(\n",
    "                host=host_name, user=u_name, passwd=u_pass)\n",
    "        return connection\n",
    "    except mysql.connector.Error as err:\n",
    "        print(f\"Error: {err}\")\n",
    "        return None\n",
    "\n",
    "# Create database if it doesn't exist\n",
    "connection = create_mysql_connection()\n",
    "if connection:\n",
    "    try:\n",
    "        mycursor = connection.cursor()\n",
    "        mycursor.execute(f\"CREATE DATABASE IF NOT EXISTS {database_name}\")\n",
    "        print(f\"Database '{database_name}' created or already exists.\")\n",
    "    finally:\n",
    "        mycursor.close()\n",
    "        connection.close()\n",
    "\n",
    "# Now connect to the specific database\n",
    "connection = create_mysql_connection(database=database_name)\n",
    "\n",
    "if connection:\n",
    "    # Create a SQLAlchemy engine for data transfer\n",
    "    engine = create_engine(f\"mysql+mysqlconnector://{u_name}:{u_pass}@{host_name}/{database_name}\")\n",
    "\n",
    "    # Push DataFrames to MySQL tables\n",
    "    try:\n",
    "        dataframes = [\n",
    "            (df_listing_info, 'listing_info'),\n",
    "            (df_host_info, 'host_info'),\n",
    "            (df_review_info, 'review_info'),\n",
    "            (df_comments_info, 'comments_info')           \n",
    "            ]\n",
    "\n",
    "        for df, table_name in dataframes:\n",
    "            # Insert DataFrame into the table (replace if it already exists)\n",
    "            print(f\"Inserting {table_name} into MySQL database...\")\n",
    "            df.to_sql(name=table_name, con=engine, if_exists='replace', index=False)\n",
    "            print(f\"Data inserted into {table_name}.\")\n",
    "\n",
    "    except Exception as e:\n",
    "        print(f\"Error during data insertion: {e}\")\n",
    "    finally:\n",
    "        connection.close()\n",
    "else:\n",
    "    print(\"Failed to connect to the MySQL database.\")\n"
   ]
  },
  {
   "cell_type": "code",
   "execution_count": null,
   "metadata": {},
   "outputs": [],
   "source": []
  }
 ],
 "metadata": {
  "kernelspec": {
   "display_name": "airbnb_env",
   "language": "python",
   "name": "python3"
  },
  "language_info": {
   "codemirror_mode": {
    "name": "ipython",
    "version": 3
   },
   "file_extension": ".py",
   "mimetype": "text/x-python",
   "name": "python",
   "nbconvert_exporter": "python",
   "pygments_lexer": "ipython3",
   "version": "3.12.2"
  }
 },
 "nbformat": 4,
 "nbformat_minor": 2
}
