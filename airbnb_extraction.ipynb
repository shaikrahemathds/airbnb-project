{
 "cells": [
  {
   "cell_type": "code",
   "execution_count": 1,
   "metadata": {},
   "outputs": [],
   "source": [
    "import json\n",
    "import pandas as pd\n",
    "import matplotlib.pyplot as plt"
   ]
  },
  {
   "cell_type": "code",
   "execution_count": 2,
   "metadata": {},
   "outputs": [],
   "source": [
    "# Loading and Extracting the data\n",
    "\n",
    "data = open('sample_airbnb.json', 'r')\n",
    "airbnb_data = json.load(data)"
   ]
  },
  {
   "cell_type": "code",
   "execution_count": 4,
   "metadata": {},
   "outputs": [
    {
     "data": {
      "text/plain": [
       "{'_id': '10091713',\n",
       " 'listing_url': 'https://www.airbnb.com/rooms/10091713',\n",
       " 'name': 'Surry Hills Studio - Your Perfect Base in Sydney',\n",
       " 'summary': 'This spacious, light filled studio has everything you need to enjoy Sydney and is the perfect base for exploring. The harbour is an easy walk, Bondi a short bus trip away.',\n",
       " 'space': \"Comfortable studio with a great layout. The bathroom has a full size bath tub and shower. Complete set of kitchen utensils etc for cooking and a full size fridge. The 3 seater sofa and 42' TV mean you can comfortably relax after a day at the beach or exploring.  Large lounge room windows provide harbour views.\",\n",
       " 'description': \"This spacious, light filled studio has everything you need to enjoy Sydney and is the perfect base for exploring. The harbour is an easy walk, Bondi a short bus trip away. Comfortable studio with a great layout. The bathroom has a full size bath tub and shower. Complete set of kitchen utensils etc for cooking and a full size fridge. The 3 seater sofa and 42' TV mean you can comfortably relax after a day at the beach or exploring.  Large lounge room windows provide harbour views. You have full use of the entire studio and complete privacy during your stay. You have complete privacy during your stay. Surry Hills is a vibrant eclectic community and an amazing place to live, and this studio is in the centre of it all. A fantastic range of small bars and restaurants are on your doorstep, along with Sydney's best breakfasts for the next morning. Central to public transport, busses to Bondi Beach and the city are 50 metres from the front door. Travel Card 'Opal' travel cards work on all Sydne\",\n",
       " 'neighborhood_overview': \"Surry Hills is a vibrant eclectic community and an amazing place to live, and this studio is in the centre of it all. A fantastic range of small bars and restaurants are on your doorstep, along with Sydney's best breakfasts for the next morning. Central to public transport, busses to Bondi Beach and the city are 50 metres from the front door.\",\n",
       " 'notes': \"WiFi, Apple TV with Netflix App (for use with your own iTunes / Netflix account), 42' TV, Sound Dock\",\n",
       " 'transit': \"Travel Card 'Opal' travel cards work on all Sydney public transport (trains, busses, ferries). The card itself is free and can be obtained (and value added) at train stations and most convenience stores and newsagents. Travel fees are capped at $15 / day, no matter how far or often you travel in that one day.  Busses Regular busses to Bondi Beach / City / Opera House etc are 50 metres away.  Trains Central train station is a 10 minute walk. Trains from / to Sydney airport arrive at Central Station and  Museum station (you can catch a train to / from the airport at Central or Museum without changing trains).   Uber Uber is readily available throughout Sydney and very reliable.\",\n",
       " 'access': 'You have full use of the entire studio and complete privacy during your stay.',\n",
       " 'interaction': 'You have complete privacy during your stay.',\n",
       " 'house_rules': 'No smoking:  No smoking any substance, including e-cigarettes. Lost Keys / Locked out of Apartment:   If you lose the key to the apartment building itself (i.e., the yellow security key) the cost of replacing it is $250. It will be deducted from your security deposit.  If you lock yourself out of the apartment, it is solely your responsibility to contact a locksmith to open the apartment door for you. You are also solely responsible for the cost of the locksmith, including the cost of replacing the lock mechanism if necessary. If the lock mechanism needs to be replaced by the locksmith,  you must provide 2 copies of the new key.',\n",
       " 'property_type': 'Apartment',\n",
       " 'room_type': 'Entire home/apt',\n",
       " 'bed_type': 'Real Bed',\n",
       " 'minimum_nights': '10',\n",
       " 'maximum_nights': '21',\n",
       " 'cancellation_policy': 'strict_14_with_grace_period',\n",
       " 'last_scraped': '2019-03-07 05:00:00',\n",
       " 'calendar_last_scraped': '2019-03-07 05:00:00',\n",
       " 'first_review': '2016-12-29 05:00:00',\n",
       " 'last_review': '2018-03-18 04:00:00',\n",
       " 'accommodates': 2,\n",
       " 'bedrooms': 0,\n",
       " 'beds': 1,\n",
       " 'number_of_reviews': 64,\n",
       " 'bathrooms': 1.0,\n",
       " 'amenities': ['TV',\n",
       "  'Wifi',\n",
       "  'Kitchen',\n",
       "  'Elevator',\n",
       "  'Heating',\n",
       "  'Washer',\n",
       "  'Dryer',\n",
       "  'Smoke detector',\n",
       "  'Essentials',\n",
       "  'Shampoo',\n",
       "  'Iron',\n",
       "  'Laptop friendly workspace',\n",
       "  'translation missing: en.hosting_amenity_49',\n",
       "  'translation missing: en.hosting_amenity_50',\n",
       "  'Hot water',\n",
       "  'Bed linens',\n",
       "  'Ethernet connection',\n",
       "  'Other'],\n",
       " 'price': 181.0,\n",
       " 'security_deposit': 300.0,\n",
       " 'cleaning_fee': 50.0,\n",
       " 'extra_people': 0.0,\n",
       " 'guests_included': 1.0,\n",
       " 'images': {'thumbnail_url': '',\n",
       "  'medium_url': '',\n",
       "  'picture_url': 'https://a0.muscache.com/im/pictures/f8eaba4e-d211-42fb-a3ca-887c0ff766f8.jpg?aki_policy=large',\n",
       "  'xl_picture_url': ''},\n",
       " 'host': {'host_id': '13764143',\n",
       "  'host_url': 'https://www.airbnb.com/users/show/13764143',\n",
       "  'host_name': 'Ben',\n",
       "  'host_location': 'New South Wales, Australia',\n",
       "  'host_about': 'Software developer from Sydney, Australia. ',\n",
       "  'host_thumbnail_url': 'https://a0.muscache.com/im/pictures/03c4d82b-7e4a-4457-976d-c4e9dfdb13fa.jpg?aki_policy=profile_small',\n",
       "  'host_picture_url': 'https://a0.muscache.com/im/pictures/03c4d82b-7e4a-4457-976d-c4e9dfdb13fa.jpg?aki_policy=profile_x_medium',\n",
       "  'host_neighbourhood': 'Surry Hills',\n",
       "  'host_is_superhost': False,\n",
       "  'host_has_profile_pic': True,\n",
       "  'host_identity_verified': True,\n",
       "  'host_listings_count': 1,\n",
       "  'host_total_listings_count': 1,\n",
       "  'host_verifications': ['email',\n",
       "   'phone',\n",
       "   'google',\n",
       "   'reviews',\n",
       "   'jumio',\n",
       "   'offline_government_id',\n",
       "   'government_id',\n",
       "   'work_email']},\n",
       " 'address': {'street': 'Surry Hills, NSW, Australia',\n",
       "  'suburb': 'Darlinghurst',\n",
       "  'government_area': 'Sydney',\n",
       "  'market': 'Sydney',\n",
       "  'country': 'Australia',\n",
       "  'country_code': 'AU',\n",
       "  'location': {'type': 'Point',\n",
       "   'coordinates': [151.21554, -33.88029],\n",
       "   'is_location_exact': True}},\n",
       " 'availability': {'availability_30': 0,\n",
       "  'availability_60': 0,\n",
       "  'availability_90': 0,\n",
       "  'availability_365': 0},\n",
       " 'review_scores': {'review_scores_accuracy': 10,\n",
       "  'review_scores_cleanliness': 9,\n",
       "  'review_scores_checkin': 10,\n",
       "  'review_scores_communication': 10,\n",
       "  'review_scores_location': 10,\n",
       "  'review_scores_value': 9,\n",
       "  'review_scores_rating': 95},\n",
       " 'reviews': [{'_id': '123549502',\n",
       "   'date': '2016-12-29 05:00:00',\n",
       "   'listing_id': '10091713',\n",
       "   'reviewer_id': '68937428',\n",
       "   'reviewer_name': 'Charles',\n",
       "   'comments': \"Ben's place is in the perfect location. Had a lot of fun staying there.\"},\n",
       "  {'_id': '125437012',\n",
       "   'date': '2017-01-05 05:00:00',\n",
       "   'listing_id': '10091713',\n",
       "   'reviewer_id': '24217924',\n",
       "   'reviewer_name': 'Lucy',\n",
       "   'comments': \"Ben's apartment was perfect for a few days in Sydney - well located, clean, bright and spacious. \\nIt is quite big for a studio, and the floorplan gives the feel of a separate kitchen, bedroom and living area. \\nA great view, well ventilated and bright. \\nBen was a great host, with really good communication. He was very accommodating with check-in and check out times. \\nOnly downside is that the apartment doesn't have wifi, so perhaps not ideal for business travellers or longer stays. \"},\n",
       "  {'_id': '128968642',\n",
       "   'date': '2017-01-28 05:00:00',\n",
       "   'listing_id': '10091713',\n",
       "   'reviewer_id': '97332617',\n",
       "   'reviewer_name': 'Ed',\n",
       "   'comments': \"I enjoyed my stay at Ben's place. Perfect location for public transport either to city (5 mins) or Bondi or Coogee beaches.\\nSmall but has everything you need to explore Sydney with and best of all, great city views!\"},\n",
       "  {'_id': '130424183',\n",
       "   'date': '2017-02-05 05:00:00',\n",
       "   'listing_id': '10091713',\n",
       "   'reviewer_id': '29294131',\n",
       "   'reviewer_name': 'Angel',\n",
       "   'comments': \"The apartment is in a nice building with some cool Art Deco details. Location is good - we pretty much walked to all major sights in city (opera house, darling harbour etc.) and there are some great shops and places to eat nearby (thanks to Ben's suggestions). Apartment has all the stuff you need for a comfortable stay, and Ben is super helpful and excellent in communication. We had such a nice time and would recommend Ben's apartment! \"},\n",
       "  {'_id': '130717792',\n",
       "   'date': '2017-02-07 05:00:00',\n",
       "   'listing_id': '10091713',\n",
       "   'reviewer_id': '10700009',\n",
       "   'reviewer_name': 'Melanie',\n",
       "   'comments': \"Ben was an excellent host; he met me on time and showed me around the apartment ensuring that I was comfortable and had everything I needed. \\nThe apartment itself is a small but comfortable studio with beautiful views of the city. It's located close to Oxford St with access to public transport if needed. Only a short walk to Darlinghurst and the city. Also, a Woolworths Metro within 200m. \\nLoved the place and would stay again. \\n\"},\n",
       "  {'_id': '131130017',\n",
       "   'date': '2017-02-10 05:00:00',\n",
       "   'listing_id': '10091713',\n",
       "   'reviewer_id': '29768974',\n",
       "   'reviewer_name': 'James',\n",
       "   'comments': 'Bens apartment is in a great location in Sydney close to great restaurants, museums, bars and shopping - Everything you need. Ben was also very friendly,  helpful and communicative. We would highly recommend ! '},\n",
       "  {'_id': '134364016',\n",
       "   'date': '2017-02-26 05:00:00',\n",
       "   'listing_id': '10091713',\n",
       "   'reviewer_id': '24911197',\n",
       "   'reviewer_name': 'Tyler',\n",
       "   'comments': 'Great central studio!'},\n",
       "  {'_id': '134744495',\n",
       "   'date': '2017-02-28 05:00:00',\n",
       "   'listing_id': '10091713',\n",
       "   'reviewer_id': '52492105',\n",
       "   'reviewer_name': 'Roger',\n",
       "   'comments': 'Great location for work or holiday, clean, lots to explore in the neighborhood, a stress free stay, thanks Ben'},\n",
       "  {'_id': '135713610',\n",
       "   'date': '2017-03-05 05:00:00',\n",
       "   'listing_id': '10091713',\n",
       "   'reviewer_id': '9494566',\n",
       "   'reviewer_name': 'Brad',\n",
       "   'comments': 'Bens apartment was perfect. Great location and everything in Surry Hills, Oxford St and Taylor Sq are walkable. Perfect for Mardi Gra weekend as we watched the parade from the lounge room windows. Would definitely stay here again when in Sydney '},\n",
       "  {'_id': '136453889',\n",
       "   'date': '2017-03-10 05:00:00',\n",
       "   'listing_id': '10091713',\n",
       "   'reviewer_id': '116232851',\n",
       "   'reviewer_name': 'Soohyun',\n",
       "   'comments': '에어비앤비숙소중에  가장 좋았다'},\n",
       "  {'_id': '137010409',\n",
       "   'date': '2017-03-12 05:00:00',\n",
       "   'listing_id': '10091713',\n",
       "   'reviewer_id': '745600',\n",
       "   'reviewer_name': 'Emma',\n",
       "   'comments': \"Ben's place is centrally located with a great view of the Sydney skyline. The place looked exactly as it did in the pictures and was the perfect size for the two of us. Ben was a great host -- always quick to respond to my messages and happy to answer any questions. I would highly recommend this place.\"},\n",
       "  {'_id': '137350442',\n",
       "   'date': '2017-03-14 04:00:00',\n",
       "   'listing_id': '10091713',\n",
       "   'reviewer_id': '17128500',\n",
       "   'reviewer_name': 'Susan',\n",
       "   'comments': \"Ben's place was in a great location and close to transit.  We enjoyed the coffee shop downstairs, the shops and theater.\"},\n",
       "  {'_id': '138057203',\n",
       "   'date': '2017-03-18 04:00:00',\n",
       "   'listing_id': '10091713',\n",
       "   'reviewer_id': '8364853',\n",
       "   'reviewer_name': 'Cheryl',\n",
       "   'comments': 'The charming apartment is conveniently located with beautiful view of Sydney Tower and Habour Bridge.'},\n",
       "  {'_id': '138845716',\n",
       "   'date': '2017-03-21 04:00:00',\n",
       "   'listing_id': '10091713',\n",
       "   'reviewer_id': '82412922',\n",
       "   'reviewer_name': 'Nadine',\n",
       "   'comments': 'Great location. Apartment exactly like pictures. Perfect for two people and nice and clean. Great communication.'},\n",
       "  {'_id': '139331754',\n",
       "   'date': '2017-03-24 04:00:00',\n",
       "   'listing_id': '10091713',\n",
       "   'reviewer_id': '5233230',\n",
       "   'reviewer_name': 'Luther',\n",
       "   'comments': \"Great location, perfectly positioned for getting into the city or to Bondi. (It's very close to the Darlinghurst nightlife so it can be a bit noisy on weekends, but you can't be in a central location without a little activity!) The apartment is clean and tidy and great for two, with very good shower water pressure. And that gorgeous view across Sydney! \"},\n",
       "  {'_id': '140126768',\n",
       "   'date': '2017-03-27 04:00:00',\n",
       "   'listing_id': '10091713',\n",
       "   'reviewer_id': '5781178',\n",
       "   'reviewer_name': 'Talia',\n",
       "   'comments': 'Great apartment in a fantastic central location! All the ammenities you could possible need and an added bonus of harbour bridge views!'},\n",
       "  {'_id': '141610581',\n",
       "   'date': '2017-04-03 04:00:00',\n",
       "   'listing_id': '10091713',\n",
       "   'reviewer_id': '114690044',\n",
       "   'reviewer_name': 'Pedro',\n",
       "   'comments': 'It was really nice.'},\n",
       "  {'_id': '142385878',\n",
       "   'date': '2017-04-08 04:00:00',\n",
       "   'listing_id': '10091713',\n",
       "   'reviewer_id': '120865671',\n",
       "   'reviewer_name': 'Angela',\n",
       "   'comments': '很小巧精致的房间,独立的厨房卫生间,各项设备齐全,居住十分方便｡位置也十分便利,能观望到悉尼大桥和海湾景色｡美中不足的是入住第一晚隔壁房子在举办彻夜的party及高声唱歌,相当打扰睡眠'},\n",
       "  {'_id': '144894960',\n",
       "   'date': '2017-04-16 04:00:00',\n",
       "   'listing_id': '10091713',\n",
       "   'reviewer_id': '57143266',\n",
       "   'reviewer_name': 'Allison',\n",
       "   'comments': 'Amazing view, great area and a great studio '},\n",
       "  {'_id': '147644751',\n",
       "   'date': '2017-04-28 04:00:00',\n",
       "   'listing_id': '10091713',\n",
       "   'reviewer_id': '49683194',\n",
       "   'reviewer_name': 'Simon',\n",
       "   'comments': 'Great pad!'},\n",
       "  {'_id': '148509633',\n",
       "   'date': '2017-05-01 04:00:00',\n",
       "   'listing_id': '10091713',\n",
       "   'reviewer_id': '56520266',\n",
       "   'reviewer_name': 'Sandy',\n",
       "   'comments': 'Totally hip neighborhood and convenient to great food, bars and sights. Ben is very nice and helpful. The apartment comfortable and homey. '},\n",
       "  {'_id': '150903540',\n",
       "   'date': '2017-05-09 04:00:00',\n",
       "   'listing_id': '10091713',\n",
       "   'reviewer_id': '91025135',\n",
       "   'reviewer_name': 'Kirsty',\n",
       "   'comments': 'Ben was a great host, his apartment was central to Sydneys busy CBD and near lots of good places to eat. We would highly recommend staying here. '},\n",
       "  {'_id': '152072859',\n",
       "   'date': '2017-05-14 04:00:00',\n",
       "   'listing_id': '10091713',\n",
       "   'reviewer_id': '57210048',\n",
       "   'reviewer_name': 'Waan',\n",
       "   'comments': 'Great location, nice view. Clean apartment, comfy bed and strong wifi. Close to everything!'},\n",
       "  {'_id': '153115350',\n",
       "   'date': '2017-05-20 04:00:00',\n",
       "   'listing_id': '10091713',\n",
       "   'reviewer_id': '122324567',\n",
       "   'reviewer_name': 'Tina',\n",
       "   'comments': '風景優美,設施齊全,屋主親切友善,適合情侶居住'},\n",
       "  {'_id': '156252041',\n",
       "   'date': '2017-05-29 04:00:00',\n",
       "   'listing_id': '10091713',\n",
       "   'reviewer_id': '4104141',\n",
       "   'reviewer_name': 'Pauline',\n",
       "   'comments': \"L'appartement de Ben est fonctionnel, cosy et très agréable. Ben à été un hôte parfait : bonne communication, présent à notre arrivée pour nous remettre les clés, appartement propre.. bref nous recommandons. Et la vue depuis l'appartement est absolument superbe !!! Coucher et lever de soleil sur Sydney magnifiques !!!\"},\n",
       "  {'_id': '158248269',\n",
       "   'date': '2017-06-05 04:00:00',\n",
       "   'listing_id': '10091713',\n",
       "   'reviewer_id': '58651850',\n",
       "   'reviewer_name': 'Yuhan',\n",
       "   'comments': 'Ben人非常好,提供了很好的帮助｡房间明亮整洁舒适,在市中心位置,去哪里都可以步行｡乘坐公共交通也很方便｡'},\n",
       "  {'_id': '159134226',\n",
       "   'date': '2017-06-10 04:00:00',\n",
       "   'listing_id': '10091713',\n",
       "   'reviewer_id': '78734290',\n",
       "   'reviewer_name': 'Cassandra',\n",
       "   'comments': \"Staying at Ben's place was fantastic! The view was perfect and the apartment itself was great. It was right in the middle of everything and was full of awesome geeky paraphernalia. Ben's guidebook was also very useful and I greatly appreciated having it. I would definitely choose this as a place to stay again if I get a chance to return to Sydney.\"},\n",
       "  {'_id': '160385397',\n",
       "   'date': '2017-06-14 04:00:00',\n",
       "   'listing_id': '10091713',\n",
       "   'reviewer_id': '46324753',\n",
       "   'reviewer_name': 'Kiri',\n",
       "   'comments': \"We loved our stay at Ben's apartment! The only very small negative we can say is the noisyness at night on the weekend BUT you can pop to the pharmacy next door and pick up some earplugs and that solves the problem!! Absolutely LOVED the location and decor of the apartment. Ben was so easy to communicate with and made sure that we were comfortable and had everything we needed :-) If you stay here, it is well worth looking at Ben's suggestions for top spots in the area. We went down the road to Bourke St Bakery everyday (amazing coffee and food!!) and went to the Italian restaurant Vacanza on our last night-simply delicious! We would 100% stay again on our next visit to Sydney :-)\"},\n",
       "  {'_id': '161111973',\n",
       "   'date': '2017-06-16 04:00:00',\n",
       "   'listing_id': '10091713',\n",
       "   'reviewer_id': '7227085',\n",
       "   'reviewer_name': 'Tim',\n",
       "   'comments': 'A beautiful studio apartment with stunning views in an unbeatable location. Will definitely be staying here again next time. Thanks very much Ben!'},\n",
       "  {'_id': '165736686',\n",
       "   'date': '2017-07-02 04:00:00',\n",
       "   'listing_id': '10091713',\n",
       "   'reviewer_id': '11584382',\n",
       "   'reviewer_name': 'Saiful',\n",
       "   'comments': 'Great stay. Great location. Great host.'},\n",
       "  {'_id': '167772945',\n",
       "   'date': '2017-07-08 04:00:00',\n",
       "   'listing_id': '10091713',\n",
       "   'reviewer_id': '112961997',\n",
       "   'reviewer_name': 'Janai',\n",
       "   'comments': 'Great place to stay! Nice and compact, but enough room for two :)'},\n",
       "  {'_id': '169266018',\n",
       "   'date': '2017-07-12 04:00:00',\n",
       "   'listing_id': '10091713',\n",
       "   'reviewer_id': '49984861',\n",
       "   'reviewer_name': 'Alan',\n",
       "   'comments': \"A perfect location to walk to all parts of the city, or to catch well frequented public transport. Many great cafes and quirky shops. Ben's place is the perfect size for a couple and has everything you need for a brief stay. \"},\n",
       "  {'_id': '170534520',\n",
       "   'date': '2017-07-15 04:00:00',\n",
       "   'listing_id': '10091713',\n",
       "   'reviewer_id': '132250277',\n",
       "   'reviewer_name': 'Johannes',\n",
       "   'comments': 'Clean, cosy and convenient. '},\n",
       "  {'_id': '172789770',\n",
       "   'date': '2017-07-22 04:00:00',\n",
       "   'listing_id': '10091713',\n",
       "   'reviewer_id': '23898090',\n",
       "   'reviewer_name': 'Gianina',\n",
       "   'comments': \"It was such a cosy room with a beautiful view out of the window. You can watch the sunrise while sitting on the Sofa and having tee.\\nIt's a really good located appartment, too. Lot's of bar, Cafe's....\\nWe would definately recommend this accomadation!\\n\"},\n",
       "  {'_id': '174138956',\n",
       "   'date': '2017-07-25 04:00:00',\n",
       "   'listing_id': '10091713',\n",
       "   'reviewer_id': '61912890',\n",
       "   'reviewer_name': 'Oliver',\n",
       "   'comments': \"Ben's place is great, really stunning views of Sydney and a very convenient location. Ben was also very easy to deal with and check in was a breeze. We'll definitely stay here again if we come back to Sydney.\"},\n",
       "  {'_id': '175405643',\n",
       "   'date': '2017-07-29 04:00:00',\n",
       "   'listing_id': '10091713',\n",
       "   'reviewer_id': '37747716',\n",
       "   'reviewer_name': 'Martina',\n",
       "   'comments': \"Warm, light filled studio, compact but has everything you need. View from the loo window is pretty cool. \\nAn abundance of eating & drinking places all within an easy walk, (recommend the 'Shakespeare pub' 200 Devonshire st, for their Thursday night fish and chip special).\\nAgain handy location for the single or couple travellers, easy key pickup and great communication with Ben.\"},\n",
       "  {'_id': '176823474',\n",
       "   'date': '2017-07-31 04:00:00',\n",
       "   'listing_id': '10091713',\n",
       "   'reviewer_id': '36220499',\n",
       "   'reviewer_name': 'Judith',\n",
       "   'comments': 'Die Wohnung entsprach genau der Beschreibung, die Schlüsselübergabe klappte hervorragend. Die Wohnung war sehr sauber und mit allem Notwendigen ausgestattet. Wir haben uns dort sehr wohl gefühlt und würden sie jederzeit wieder buchen.'},\n",
       "  {'_id': '182137133',\n",
       "   'date': '2017-08-14 04:00:00',\n",
       "   'listing_id': '10091713',\n",
       "   'reviewer_id': '26147994',\n",
       "   'reviewer_name': 'Carly',\n",
       "   'comments': 'Great spot! Amazing water and bridge views. Lots of great restaurants and bars within walking distance, and the supermarket is really close. An easy walk to the city.'},\n",
       "  {'_id': '185892474',\n",
       "   'date': '2017-08-23 04:00:00',\n",
       "   'listing_id': '10091713',\n",
       "   'reviewer_id': '144515947',\n",
       "   'reviewer_name': 'Alex',\n",
       "   'comments': 'Was a great stay ! Great view toward the city (can see harbour bridge). Clean and tidy room with great access to public transport'},\n",
       "  {'_id': '189500479',\n",
       "   'date': '2017-09-02 04:00:00',\n",
       "   'listing_id': '10091713',\n",
       "   'reviewer_id': '163918',\n",
       "   'reviewer_name': 'Tracy',\n",
       "   'comments': \"I enjoyed my stay at Ben's place. The studio apartment is cute and neat with a nice view. Great location and very convenient. Check in/check out was easy. Ben is helpful. I would love to stay at his place again next time I am in Sydney.\"},\n",
       "  {'_id': '191807343',\n",
       "   'date': '2017-09-09 04:00:00',\n",
       "   'listing_id': '10091713',\n",
       "   'reviewer_id': '8526468',\n",
       "   'reviewer_name': 'Angela',\n",
       "   'comments': 'A fabulous place to stay, such a vibrant area with lots of great places to eat.\\nBen was really easy to deal with and great communication. Such great value for money, would highly recommend.'},\n",
       "  {'_id': '192712383',\n",
       "   'date': '2017-09-11 04:00:00',\n",
       "   'listing_id': '10091713',\n",
       "   'reviewer_id': '8526468',\n",
       "   'reviewer_name': 'Angela',\n",
       "   'comments': \"My partner and I had a great stay at Ben's place. The place is small but just a perfect size for a couple and base for a City weekend. \\nThe location is fantastic and so many great little bars at cafes at hand. Very handy having a pharmacy below and also a Metro supermarket a few minutes walk. \\nThis really is a great value for money considering the location and Ben is so easy to deal with.\"},\n",
       "  {'_id': '195001001',\n",
       "   'date': '2017-09-18 04:00:00',\n",
       "   'listing_id': '10091713',\n",
       "   'reviewer_id': '21253812',\n",
       "   'reviewer_name': 'Aude',\n",
       "   'comments': 'Very well located studio, very clean and with a beautiful view on the city. It was perfect to visit Sydney as the flat is very near the buses and the center can be easilly acesssed by foot. Ben was very helpful to answer quickly in case of questions. I recommand this location and will return if I come back to Sydney :-)'},\n",
       "  {'_id': '200016536',\n",
       "   'date': '2017-10-03 04:00:00',\n",
       "   'listing_id': '10091713',\n",
       "   'reviewer_id': '111977458',\n",
       "   'reviewer_name': 'Lauren',\n",
       "   'comments': \"This was undoubtedly the worst air bnb experience I have ever had.\\nThe studio is filled with the hosts things in drawers, it is very noisy, the shower handles fell off and there were a random pair of rusty nail scissors on the floor, we had people knocking on our door in the night and every single day the block smelt like weed from someone smoking inside.\\nAbout 6 days into our stay the toilet started leaking - pretty gross when it's leaking on the floor after flushing. I let ben know and he didn't reply. I chased 2 days later and he agreed to come and take a look - afterwards the issue was much worse and the entire floor was covered in water, the shower then also wouldn't turn off. Ben told me he would look into a plumber coming and once again failed to get in touch - I chased and said it was uninhabitable like that .. and Ben then demanded that we leave that very day with no compromise with time to find somewhere else, despite us having 4 nights left and visiting from London. \\nAwful experience all around.\"},\n",
       "  {'_id': '204383727',\n",
       "   'date': '2017-10-17 04:00:00',\n",
       "   'listing_id': '10091713',\n",
       "   'reviewer_id': '155042249',\n",
       "   'reviewer_name': 'Sarah',\n",
       "   'comments': 'The host canceled this reservation 7 days before arrival. This is an automated posting.'},\n",
       "  {'_id': '204384015',\n",
       "   'date': '2017-10-17 04:00:00',\n",
       "   'listing_id': '10091713',\n",
       "   'reviewer_id': '69896414',\n",
       "   'reviewer_name': 'Mingyu',\n",
       "   'comments': \"This place is pretty awesome. It is pretty close to anything you would really need. Within about a 1.5 mile radius (35 min walk) we could really get to any part of town of interest, and anything else uber is always convenient. The place is small and cozy, nothing more you need for your stay. The TV is a smart TV with the youtube app which (we didnt realize till after staying in our other airbnb's without it) was awesome! \\n\\nThe only thing is, the bed and the couch kind of sunk in. So we ended up sleeping on the ground. Which honestly isnt bad at all, and made my back feel muuuch better the next day. Honestly didnt detract from the experience at all.\"},\n",
       "  {'_id': '205838743',\n",
       "   'date': '2017-10-22 04:00:00',\n",
       "   'listing_id': '10091713',\n",
       "   'reviewer_id': '152543582',\n",
       "   'reviewer_name': 'Ania',\n",
       "   'comments': \"Wow......this met all of our expectations and more. Clean and tidy with fresh sheets on a comfy bed and Sheridan towels. Not to mention the extras that I wont bother to take next time we stay like umbrellas, shopping bags, tea bags, band aids and spare blankets. Perhaps having  a hairdryer available would have lightened my luggage! \\nCheck in and check out was easy. Ben was available ,approachable and very helpful. \\nThe location was perfect for exploring Sydney. A 20 min stroll down historic Oxford St to Darling Harbour. Many different buses right out the front to Centre Point, Bondi, Circular Quay  just to mention a few. Don't forget to get your Opal card from any newsagent and you can top it up with cash on line! Walking distance to the train to explore further a field.\\n The studio apartment on the 7th floor has spectacular views ( the photos don't lie!) and is nestled in a friendly community with many restaurants/cafes/shops/chemists all within walking distance. We will be back for many visits I am sure...thanks again Ben!\"},\n",
       "  {'_id': '208303089',\n",
       "   'date': '2017-10-31 04:00:00',\n",
       "   'listing_id': '10091713',\n",
       "   'reviewer_id': '142280580',\n",
       "   'reviewer_name': 'Rowena',\n",
       "   'comments': 'We had a great stay at Ben’s place. The location is perfect for exploring Sydney and the apartment had all the amenities we needed, including a well equipped kitchen. We’d definitely stay here again. Ben was quick to respond and he kindly left us some ice lollies, as we had hot weather the first few day!'},\n",
       "  {'_id': '209997327',\n",
       "   'date': '2017-11-06 05:00:00',\n",
       "   'listing_id': '10091713',\n",
       "   'reviewer_id': '154576398',\n",
       "   'reviewer_name': 'Rekha',\n",
       "   'comments': \"Ben's place was very comfortable and close to all public transport and commercial points. We had a wonderful stay. Apartment was very well equipped. Ben was also very quick in response for qns we had on any facility at home.\"},\n",
       "  {'_id': '211715787',\n",
       "   'date': '2017-11-14 05:00:00',\n",
       "   'listing_id': '10091713',\n",
       "   'reviewer_id': '109039708',\n",
       "   'reviewer_name': 'Jessica',\n",
       "   'comments': 'Ben was an amazing host who had everything we needed. \\nThe apartment has a fantastic view of the city skyline and bridge, as well as everything you out need for a comfortable stay.'},\n",
       "  {'_id': '213130374',\n",
       "   'date': '2017-11-19 05:00:00',\n",
       "   'listing_id': '10091713',\n",
       "   'reviewer_id': '128759159',\n",
       "   'reviewer_name': 'Lara',\n",
       "   'comments': 'This apartment is in an excellent location to see Sydney and enjoy the area of Surry Hills. A cosy and compact apartment providing everything you need. Ben was very easy to contact and accommodating.'},\n",
       "  {'_id': '214417780',\n",
       "   'date': '2017-11-25 05:00:00',\n",
       "   'listing_id': '10091713',\n",
       "   'reviewer_id': '22126122',\n",
       "   'reviewer_name': 'Sarah',\n",
       "   'comments': 'Ben’s place is in a lively, busy Sydney neighbourhood. There’s always lots going on and plenty of great places to eat, drink and socialise. We recommend Messina for amazing ice cream and Bourke St Bakery - both within walking distance.\\nThe apartment itself is cosy, compact and ideal for solo travellers or couples who don’t need too much space. It’s bright, stylishly decorated and has all the amenities you’ll need for a few days in the city.'},\n",
       "  {'_id': '215632414',\n",
       "   'date': '2017-12-01 05:00:00',\n",
       "   'listing_id': '10091713',\n",
       "   'reviewer_id': '10662532',\n",
       "   'reviewer_name': 'Kate',\n",
       "   'comments': \"Cute studio apartment with bridge views. Easy walk to Darling Harbor and very friendly and accomodating host. Would definitely recommend Ben's place.\"},\n",
       "  {'_id': '216968176',\n",
       "   'date': '2017-12-06 05:00:00',\n",
       "   'listing_id': '10091713',\n",
       "   'reviewer_id': '71629655',\n",
       "   'reviewer_name': 'Amelia',\n",
       "   'comments': 'Great location, clean apartment, amazing host. Definitely recommend'},\n",
       "  {'_id': '218450406',\n",
       "   'date': '2017-12-12 05:00:00',\n",
       "   'listing_id': '10091713',\n",
       "   'reviewer_id': '85494179',\n",
       "   'reviewer_name': 'Scott',\n",
       "   'comments': 'Great apartment close to the centre of town'},\n",
       "  {'_id': '219547489',\n",
       "   'date': '2017-12-17 05:00:00',\n",
       "   'listing_id': '10091713',\n",
       "   'reviewer_id': '105544039',\n",
       "   'reviewer_name': 'Tegan',\n",
       "   'comments': 'This is a lovely, clean apartment in a very central location. Close to public transport and everything else we needed (e.g. Supermarket, cafes, restaurants). The apartment is very spacious for two people and the view is amazing, we even had a great view of some fireworks on our last night. I would definitely recommend this place. Ben was also a great host and easy to communicate with!'},\n",
       "  {'_id': '222130112',\n",
       "   'date': '2017-12-29 05:00:00',\n",
       "   'listing_id': '10091713',\n",
       "   'reviewer_id': '34553914',\n",
       "   'reviewer_name': 'Jib Walaipat',\n",
       "   'comments': \"Ben's apartment is situated among trendy cafes and bars. It's also only a short walk to a train station, and a longer walk to many tourist attractions. Check-in was easy and the host  was communicative. Weoved our stay. Thank you, Ben!\"},\n",
       "  {'_id': '224339237',\n",
       "   'date': '2018-01-02 05:00:00',\n",
       "   'listing_id': '10091713',\n",
       "   'reviewer_id': '93199897',\n",
       "   'reviewer_name': 'Catherine',\n",
       "   'comments': \"The view from Ben's place was spectacular!!!\"},\n",
       "  {'_id': '228073705',\n",
       "   'date': '2018-01-17 05:00:00',\n",
       "   'listing_id': '10091713',\n",
       "   'reviewer_id': '131718119',\n",
       "   'reviewer_name': 'Eloise',\n",
       "   'comments': \"Lovely apartment with everything you need! In an excellent location with many great little restaurants and bars nearby. Grocery store is also just down the road. Close to bus stops that'll take you to all of Sydney's major destinations as well as a 10 min walk from Central Station. Ben was a great host and was super easy to communicate with. Would love to stay here again in the future!\"},\n",
       "  {'_id': '232444005',\n",
       "   'date': '2018-02-04 05:00:00',\n",
       "   'listing_id': '10091713',\n",
       "   'reviewer_id': '129430068',\n",
       "   'reviewer_name': 'Tabitha',\n",
       "   'comments': \"Worst Airbnb experience ever! On arrival, the apartment was quite grubby and full of host's personal possessions with only 2 drawers left for the two of us over a fortnight. The fridge had half empty jars, food stains were all over the cabinet doors, and the place was dusty.\\nWe had a disaster in that we accidentally left the keys in the apartment (that locks behind you!). We were unable to contact Ben for over 2 days as he had left the country without informing us - ending with us out on the street for hours, having to stay in a hostel overnight and eventually paying for a locksmith as we desperately needed our belongings. Ben was not even remotely apologetic once he finally got in contact with us. \\nOnce we asked him if it was possible for him to reimburse for the locksmith and other costs, he replied aggressively with snarky and unnecessarily nasty comments about our stay - saying we had left wet towels on the floor when actually we had left one wet towel in the laundry basket that we had used to clean the water from the leaking toilet that was a great inconvenience throughout our stay and has been a complaint from another guest. Also said we raked through his personal belongings which were against his 'rules', when actually we only used a couple of towels from a drawer since he only left us one bath towel for two people for a fortnight. Ben has also attempted to charge us 100AUD regarding a small stain on the bed sheet, which is a completely ridiculous price especially considering the fee that we paid for cleaning.\\nFurthermore, we asked where he would like his new keys to be left so he could get back in his apartment - to which eventually he said to 'leave them on the kitchen table'. This obviously doesn't make any sense and he only replied a few hours before our departure so we replied we would leave one of the keys in an envelope in his letterbox under his other mail. Only after we requested reimbursement days after we had left, he replied in a hostile manner that he had to pay for his own locksmith as we didn't leave him his key(?). \\nOverall a dreadful experience that we wouldn't like anyone else to go through, as leaving the keys in an apartment when the door locks behind your back could essentially happen to anyone. This could have been handled far more efficiently & pleasantly if the host had actually been a decent person so BEWARE.\"},\n",
       "  {'_id': '238803427',\n",
       "   'date': '2018-02-27 05:00:00',\n",
       "   'listing_id': '10091713',\n",
       "   'reviewer_id': '13988353',\n",
       "   'reviewer_name': 'Selina',\n",
       "   'comments': \"We travelled with a 4 month old baby. Ben's place was a great location, close to everything - shops, food, transport. Ben was a great communicator and offered us a late check out which was perfect.\"},\n",
       "  {'_id': '240499794',\n",
       "   'date': '2018-03-05 05:00:00',\n",
       "   'listing_id': '10091713',\n",
       "   'reviewer_id': '155977269',\n",
       "   'reviewer_name': 'Kristie',\n",
       "   'comments': 'Wonderful location, spectacular views.'},\n",
       "  {'_id': '241351915',\n",
       "   'date': '2018-03-08 05:00:00',\n",
       "   'listing_id': '10091713',\n",
       "   'reviewer_id': '26705147',\n",
       "   'reviewer_name': 'Andy',\n",
       "   'comments': 'The host canceled this reservation 14 days before arrival. This is an automated posting.'},\n",
       "  {'_id': '244574712',\n",
       "   'date': '2018-03-18 04:00:00',\n",
       "   'listing_id': '10091713',\n",
       "   'reviewer_id': '6403215',\n",
       "   'reviewer_name': 'Snowy',\n",
       "   'comments': 'Ben was very responsive and the location of the accommodation is convenient.  It can get noisy on the weekend tho... Overall, a great experience to stay at Ben’s place! Thanks!'}]}"
      ]
     },
     "execution_count": 4,
     "metadata": {},
     "output_type": "execute_result"
    }
   ],
   "source": [
    "airbnb_data[4]"
   ]
  },
  {
   "cell_type": "code",
   "execution_count": 3,
   "metadata": {},
   "outputs": [],
   "source": [
    "pd.set_option('display.max_columns', 50)"
   ]
  },
  {
   "cell_type": "code",
   "execution_count": 6,
   "metadata": {},
   "outputs": [],
   "source": [
    "# def listing_info():\n",
    "#     listings = []\n",
    "    \n",
    "#     for i in airbnb_data:\n",
    "#         coordinates = i['address']['location'].get('coordinates')  # Get coordinates from the data\n",
    "#         if coordinates:\n",
    "#             latitude = coordinates[1]  # latitude is the second element in the list\n",
    "#             longitude = coordinates[0]  # longitude is the first element in the list\n",
    "#         else:\n",
    "#             latitude = None\n",
    "#             longitude = None\n",
    "        \n",
    "#         # Convert amenities list to a comma-separated string\n",
    "#         amenities = i.get('amenities', [])\n",
    "#         amenities_str = \", \".join(amenities) if amenities else None\n",
    "        \n",
    "#         # Create the data dictionary with all the relevant fields\n",
    "#         data = dict(\n",
    "#             listing_id = i['_id'],\n",
    "#             listing_url = i['listing_url'],\n",
    "#             name = i['name'],\n",
    "#             description = i['description'],\n",
    "#             street = i['address']['street'],\n",
    "#             suburb = i['address']['suburb'],\n",
    "#             government_area = i['address']['government_area'],\n",
    "#             market = i['address']['market'],\n",
    "#             country = i['address']['country'],\n",
    "#             country_code = i['address']['country_code'],\n",
    "#             latitude = latitude,  \n",
    "#             longitude = longitude,  \n",
    "#             property_type = i['property_type'], \n",
    "#             room_type = i['room_type'],\n",
    "#             bed_type = i['bed_type'],\n",
    "#             minimum_nights = i['minimum_nights'],\n",
    "#             maximum_nights = i['maximum_nights'],\n",
    "#             cancellation_policy = i['cancellation_policy'],\n",
    "#             accommodates = i['accommodates'],\n",
    "#             bedrooms = i.get('bedrooms'),\n",
    "#             beds = i.get('beds'),\n",
    "#             bathrooms = i.get('bathrooms'),\n",
    "#             price = i['price'],\n",
    "#             security_deposit = i.get('security_deposit'),\n",
    "#             cleaning_fee = i.get('cleaning_fee'),\n",
    "#             extra_people = i['extra_people'],\n",
    "#             guests_included = i['guests_included'],\n",
    "#             picture_url = i['images']['picture_url'],\n",
    "#             availability_30 = i['availability']['availability_30'],\n",
    "#             availability_60 = i['availability']['availability_60'],\n",
    "#             availability_90 = i['availability']['availability_90'],\n",
    "#             availability_365 = i['availability']['availability_365'],\n",
    "#             amenities = amenities_str  \n",
    "#         )\n",
    "#         listings.append(data)\n",
    "        \n",
    "#     return listings\n"
   ]
  },
  {
   "cell_type": "code",
   "execution_count": 4,
   "metadata": {},
   "outputs": [],
   "source": [
    "def listing_info():\n",
    "    listings = []\n",
    "\n",
    "    # Country to currency mapping\n",
    "    country_to_currency = {\n",
    "        'United States': 'USD',\n",
    "        'Turkey': 'TRY',   # Turkish Lira\n",
    "        'Hong Kong': 'HKD', # Hong Kong Dollar\n",
    "        'Australia': 'AUD', # Australian Dollar\n",
    "        'Portugal': 'EUR',  # Euro\n",
    "        'Brazil': 'BRL',     # Brazilian Real\n",
    "        'Canada': 'CAD',     # Canadian Dollar\n",
    "        'Spain': 'EUR',      # Euro\n",
    "        'China': 'CNY'       # Chinese Yuan\n",
    "    }\n",
    "\n",
    "    # Conversion rates from each currency to USD (based on 2019 rates, approximate)\n",
    "    currency_rates = {\n",
    "        'USD': 1,     # 1 USD = 1 USD\n",
    "        'TRY': 0.17,  # 1 TRY = 0.17 USD (approx. value from 2019)\n",
    "        'HKD': 0.13,  # 1 HKD = 0.13 USD (approx. value from 2019)\n",
    "        'AUD': 0.70,  # 1 AUD = 0.70 USD (approx. value from 2019)\n",
    "        'EUR': 1.12,  # 1 EUR = 1.12 USD (approx. value from 2019)\n",
    "        'BRL': 0.26,  # 1 BRL = 0.26 USD (approx. value from 2019)\n",
    "        'CAD': 0.75,  # 1 CAD = 0.75 USD (approx. value from 2019)\n",
    "        'CNY': 0.14,  # 1 CNY = 0.14 USD (approx. value from 2019)\n",
    "    }\n",
    "\n",
    "    for i in airbnb_data:\n",
    "        coordinates = i['address']['location'].get('coordinates')  # Get coordinates from the data\n",
    "        if coordinates:\n",
    "            latitude = coordinates[1]  # latitude is the second element in the list\n",
    "            longitude = coordinates[0]  # longitude is the first element in the list\n",
    "        else:\n",
    "            latitude = None\n",
    "            longitude = None\n",
    "        \n",
    "        # Convert amenities list to a comma-separated string\n",
    "        amenities = i.get('amenities', [])\n",
    "        amenities_str = \", \".join(amenities) if amenities else None\n",
    "        \n",
    "        # Get the country and find its currency\n",
    "        country = i['address']['country']\n",
    "        currency_code = country_to_currency.get(country, 'USD')  # Default to USD if no match\n",
    "        \n",
    "        # Get the conversion rate for the currency\n",
    "        conversion_rate = currency_rates.get(currency_code, 1)  # Default to 1 if no rate found\n",
    "        \n",
    "        # Convert price to USD\n",
    "        price_in_usd = i['price'] * conversion_rate\n",
    "        \n",
    "        # Create the data dictionary with all the relevant fields\n",
    "        data = dict(\n",
    "            listing_id = i['_id'],\n",
    "            listing_url = i['listing_url'],\n",
    "            name = i['name'],\n",
    "            description = i['description'],\n",
    "            street = i['address']['street'],\n",
    "            suburb = i['address']['suburb'],\n",
    "            government_area = i['address']['government_area'],\n",
    "            market = i['address']['market'],\n",
    "            country = country,\n",
    "            country_code = i['address']['country_code'],\n",
    "            latitude = latitude,  \n",
    "            longitude = longitude,  \n",
    "            property_type = i['property_type'], \n",
    "            room_type = i['room_type'],\n",
    "            bed_type = i['bed_type'],\n",
    "            minimum_nights = i['minimum_nights'],\n",
    "            maximum_nights = i['maximum_nights'],\n",
    "            cancellation_policy = i['cancellation_policy'],\n",
    "            accommodates = i['accommodates'],\n",
    "            bedrooms = i.get('bedrooms'),\n",
    "            beds = i.get('beds'),\n",
    "            bathrooms = i.get('bathrooms'),\n",
    "            price = price_in_usd,  # Store price in USD\n",
    "            security_deposit = i.get('security_deposit'),\n",
    "            cleaning_fee = i.get('cleaning_fee'),\n",
    "            extra_people = i['extra_people'],\n",
    "            guests_included = i['guests_included'],\n",
    "            picture_url = i['images']['picture_url'],\n",
    "            availability_30 = i['availability']['availability_30'],\n",
    "            availability_60 = i['availability']['availability_60'],\n",
    "            availability_90 = i['availability']['availability_90'],\n",
    "            availability_365 = i['availability']['availability_365'],\n",
    "            amenities = amenities_str  \n",
    "        )\n",
    "        listings.append(data)\n",
    "        \n",
    "    return listings\n"
   ]
  },
  {
   "cell_type": "code",
   "execution_count": 9,
   "metadata": {},
   "outputs": [],
   "source": [
    "df_listing_info = pd.DataFrame(listing_info())"
   ]
  },
  {
   "cell_type": "code",
   "execution_count": 10,
   "metadata": {},
   "outputs": [
    {
     "data": {
      "text/plain": [
       "listing_id                0\n",
       "listing_url               0\n",
       "name                      0\n",
       "description               0\n",
       "street                    0\n",
       "suburb                    0\n",
       "government_area           0\n",
       "market                    0\n",
       "country                   0\n",
       "country_code              0\n",
       "latitude                  0\n",
       "longitude                 0\n",
       "property_type             0\n",
       "room_type                 0\n",
       "bed_type                  0\n",
       "minimum_nights            0\n",
       "maximum_nights            0\n",
       "cancellation_policy       0\n",
       "accommodates              0\n",
       "bedrooms                  5\n",
       "beds                     13\n",
       "bathrooms                10\n",
       "price                     0\n",
       "security_deposit       2084\n",
       "cleaning_fee           1531\n",
       "extra_people              0\n",
       "guests_included           0\n",
       "picture_url               0\n",
       "availability_30           0\n",
       "availability_60           0\n",
       "availability_90           0\n",
       "availability_365          0\n",
       "amenities                 0\n",
       "dtype: int64"
      ]
     },
     "execution_count": 10,
     "metadata": {},
     "output_type": "execute_result"
    }
   ],
   "source": [
    "df_listing_info.isnull().sum()"
   ]
  },
  {
   "cell_type": "code",
   "execution_count": 11,
   "metadata": {},
   "outputs": [
    {
     "data": {
      "image/png": "[encoded data removed]",
      "text/plain": [
       "<Figure size 640x480 with 1 Axes>"
      ]
     },
     "metadata": {},
     "output_type": "display_data"
    }
   ],
   "source": [
    "# Histogram of a column to check for skewness\n",
    "\n",
    "df_listing_info['security_deposit'].hist(bins=50, color='blue', edgecolor='black')\n",
    "plt.title('Histogram of column_name')\n",
    "plt.xlabel('security_deposit')\n",
    "plt.ylabel('Frequency')\n",
    "plt.show()"
   ]
  },
  {
   "cell_type": "code",
   "execution_count": 12,
   "metadata": {},
   "outputs": [
    {
     "data": {
      "image/png": "[encoded data removed]",
      "text/plain": [
       "<Figure size 640x480 with 1 Axes>"
      ]
     },
     "metadata": {},
     "output_type": "display_data"
    }
   ],
   "source": [
    "df_listing_info['cleaning_fee'].hist(bins=50, color='blue', edgecolor='black')\n",
    "plt.title('Histogram of column_name')\n",
    "plt.xlabel('cleaning_fee')\n",
    "plt.ylabel('Frequency')\n",
    "plt.show()"
   ]
  },
  {
   "cell_type": "code",
   "execution_count": 13,
   "metadata": {},
   "outputs": [],
   "source": [
    "# Highly skewed data. Hence taking median instead of mean\n",
    "\n",
    "df_listing_info['security_deposit'] = df_listing_info['security_deposit'].fillna(df_listing_info['security_deposit'].median())\n",
    "df_listing_info['cleaning_fee'] = df_listing_info['cleaning_fee'].fillna(df_listing_info['cleaning_fee'].median())\n"
   ]
  },
  {
   "cell_type": "code",
   "execution_count": 14,
   "metadata": {},
   "outputs": [
    {
     "name": "stdout",
     "output_type": "stream",
     "text": [
      "bedrooms     3.101198\n",
      "beds         3.002075\n",
      "bathrooms    5.019227\n",
      "dtype: float64\n"
     ]
    }
   ],
   "source": [
    "# List of columns you want to check skewness for\n",
    "columns_to_check = ['bedrooms', 'beds', 'bathrooms']\n",
    "\n",
    "# Calculate skewness for the selected columns\n",
    "skewness_values = df_listing_info[columns_to_check].skew()\n",
    "\n",
    "# Display skewness values\n",
    "print(skewness_values)\n",
    "\n",
    "# Highly skewed data. For an normally distributed data the range cna be from -0.5 to +0.5.\n",
    "# So it better to take mode for missing values"
   ]
  },
  {
   "cell_type": "code",
   "execution_count": 15,
   "metadata": {},
   "outputs": [],
   "source": [
    "df_listing_info['bedrooms'] = df_listing_info['bedrooms'].fillna(df_listing_info['bedrooms'].mode()[0]).astype(int)\n",
    "df_listing_info['beds'] = df_listing_info['beds'].fillna(df_listing_info['beds'].mode()[0]).astype(int)\n",
    "df_listing_info['bathrooms'] = df_listing_info['bathrooms'].fillna(df_listing_info['bathrooms'].mode()[0]).astype(int)"
   ]
  },
  {
   "cell_type": "code",
   "execution_count": 16,
   "metadata": {},
   "outputs": [
    {
     "data": {
      "text/plain": [
       "listing_id             0\n",
       "listing_url            0\n",
       "name                   0\n",
       "description            0\n",
       "street                 0\n",
       "suburb                 0\n",
       "government_area        0\n",
       "market                 0\n",
       "country                0\n",
       "country_code           0\n",
       "latitude               0\n",
       "longitude              0\n",
       "property_type          0\n",
       "room_type              0\n",
       "bed_type               0\n",
       "minimum_nights         0\n",
       "maximum_nights         0\n",
       "cancellation_policy    0\n",
       "accommodates           0\n",
       "bedrooms               0\n",
       "beds                   0\n",
       "bathrooms              0\n",
       "price                  0\n",
       "security_deposit       0\n",
       "cleaning_fee           0\n",
       "extra_people           0\n",
       "guests_included        0\n",
       "picture_url            0\n",
       "availability_30        0\n",
       "availability_60        0\n",
       "availability_90        0\n",
       "availability_365       0\n",
       "amenities              0\n",
       "dtype: int64"
      ]
     },
     "execution_count": 16,
     "metadata": {},
     "output_type": "execute_result"
    }
   ],
   "source": [
    "df_listing_info.isnull().sum()"
   ]
  },
  {
   "cell_type": "code",
   "execution_count": 17,
   "metadata": {},
   "outputs": [
    {
     "name": "stdout",
     "output_type": "stream",
     "text": [
      "<class 'pandas.core.frame.DataFrame'>\n",
      "RangeIndex: 5555 entries, 0 to 5554\n",
      "Data columns (total 33 columns):\n",
      " #   Column               Non-Null Count  Dtype  \n",
      "---  ------               --------------  -----  \n",
      " 0   listing_id           5555 non-null   object \n",
      " 1   listing_url          5555 non-null   object \n",
      " 2   name                 5555 non-null   object \n",
      " 3   description          5555 non-null   object \n",
      " 4   street               5555 non-null   object \n",
      " 5   suburb               5555 non-null   object \n",
      " 6   government_area      5555 non-null   object \n",
      " 7   market               5555 non-null   object \n",
      " 8   country              5555 non-null   object \n",
      " 9   country_code         5555 non-null   object \n",
      " 10  latitude             5555 non-null   float64\n",
      " 11  longitude            5555 non-null   float64\n",
      " 12  property_type        5555 non-null   object \n",
      " 13  room_type            5555 non-null   object \n",
      " 14  bed_type             5555 non-null   object \n",
      " 15  minimum_nights       5555 non-null   object \n",
      " 16  maximum_nights       5555 non-null   object \n",
      " 17  cancellation_policy  5555 non-null   object \n",
      " 18  accommodates         5555 non-null   int64  \n",
      " 19  bedrooms             5555 non-null   int64  \n",
      " 20  beds                 5555 non-null   int64  \n",
      " 21  bathrooms            5555 non-null   int64  \n",
      " 22  price                5555 non-null   float64\n",
      " 23  security_deposit     5555 non-null   float64\n",
      " 24  cleaning_fee         5555 non-null   float64\n",
      " 25  extra_people         5555 non-null   float64\n",
      " 26  guests_included      5555 non-null   float64\n",
      " 27  picture_url          5555 non-null   object \n",
      " 28  availability_30      5555 non-null   int64  \n",
      " 29  availability_60      5555 non-null   int64  \n",
      " 30  availability_90      5555 non-null   int64  \n",
      " 31  availability_365     5555 non-null   int64  \n",
      " 32  amenities            5555 non-null   object \n",
      "dtypes: float64(7), int64(8), object(18)\n",
      "memory usage: 1.4+ MB\n"
     ]
    }
   ],
   "source": [
    "df_listing_info.info()"
   ]
  },
  {
   "cell_type": "code",
   "execution_count": 18,
   "metadata": {},
   "outputs": [],
   "source": [
    "# Convert to appropriate data types\n",
    "\n",
    "df_listing_info['minimum_nights'] = df_listing_info['minimum_nights'].astype(int)\n",
    "df_listing_info['maximum_nights'] = df_listing_info['maximum_nights'].astype(int)\n",
    "df_listing_info['bedrooms'] = df_listing_info['bedrooms'].astype(int)\n",
    "df_listing_info['beds'] = df_listing_info['beds'].astype(int)\n",
    "df_listing_info['bathrooms'] = df_listing_info['bathrooms'].astype(int)\n",
    "df_listing_info['extra_people'] = df_listing_info['extra_people'].astype(int)\n",
    "df_listing_info['guests_included'] = df_listing_info['guests_included'].astype(int)"
   ]
  },
  {
   "cell_type": "code",
   "execution_count": 19,
   "metadata": {},
   "outputs": [
    {
     "name": "stdout",
     "output_type": "stream",
     "text": [
      "<class 'pandas.core.frame.DataFrame'>\n",
      "RangeIndex: 5555 entries, 0 to 5554\n",
      "Data columns (total 33 columns):\n",
      " #   Column               Non-Null Count  Dtype  \n",
      "---  ------               --------------  -----  \n",
      " 0   listing_id           5555 non-null   object \n",
      " 1   listing_url          5555 non-null   object \n",
      " 2   name                 5555 non-null   object \n",
      " 3   description          5555 non-null   object \n",
      " 4   street               5555 non-null   object \n",
      " 5   suburb               5555 non-null   object \n",
      " 6   government_area      5555 non-null   object \n",
      " 7   market               5555 non-null   object \n",
      " 8   country              5555 non-null   object \n",
      " 9   country_code         5555 non-null   object \n",
      " 10  latitude             5555 non-null   float64\n",
      " 11  longitude            5555 non-null   float64\n",
      " 12  property_type        5555 non-null   object \n",
      " 13  room_type            5555 non-null   object \n",
      " 14  bed_type             5555 non-null   object \n",
      " 15  minimum_nights       5555 non-null   int64  \n",
      " 16  maximum_nights       5555 non-null   int64  \n",
      " 17  cancellation_policy  5555 non-null   object \n",
      " 18  accommodates         5555 non-null   int64  \n",
      " 19  bedrooms             5555 non-null   int64  \n",
      " 20  beds                 5555 non-null   int64  \n",
      " 21  bathrooms            5555 non-null   int64  \n",
      " 22  price                5555 non-null   float64\n",
      " 23  security_deposit     5555 non-null   float64\n",
      " 24  cleaning_fee         5555 non-null   float64\n",
      " 25  extra_people         5555 non-null   int64  \n",
      " 26  guests_included      5555 non-null   int64  \n",
      " 27  picture_url          5555 non-null   object \n",
      " 28  availability_30      5555 non-null   int64  \n",
      " 29  availability_60      5555 non-null   int64  \n",
      " 30  availability_90      5555 non-null   int64  \n",
      " 31  availability_365     5555 non-null   int64  \n",
      " 32  amenities            5555 non-null   object \n",
      "dtypes: float64(5), int64(12), object(16)\n",
      "memory usage: 1.4+ MB\n"
     ]
    }
   ],
   "source": [
    "df_listing_info.info()"
   ]
  },
  {
   "cell_type": "code",
   "execution_count": 20,
   "metadata": {},
   "outputs": [
    {
     "data": {
      "text/plain": [
       "np.int64(0)"
      ]
     },
     "execution_count": 20,
     "metadata": {},
     "output_type": "execute_result"
    }
   ],
   "source": [
    "df_listing_info.duplicated().sum()\n",
    "# No duplicate rows as well"
   ]
  },
  {
   "cell_type": "code",
   "execution_count": 20,
   "metadata": {},
   "outputs": [],
   "source": [
    "def host_info():\n",
    "    host = []\n",
    "    \n",
    "    for i in airbnb_data:\n",
    "        # Convert host_verifications list to a comma-separated string\n",
    "        host_verifications = ', '.join(i['host']['host_verifications'])\n",
    "        \n",
    "        data = dict(\n",
    "            listing_id=i['_id'],\n",
    "            host_id=i['host']['host_id'],\n",
    "            host_url=i['host']['host_url'],\n",
    "            host_name=i['host']['host_name'],\n",
    "            host_location=i['host']['host_location'],\n",
    "            host_about=i['host']['host_about'],\n",
    "            host_response_time = i['host'].get('host_response_time'),\n",
    "            host_response_rate=i['host'].get('host_response_rate'),\n",
    "            host_picture_url=i['host']['host_picture_url'],\n",
    "            host_is_superhost=i['host']['host_is_superhost'],\n",
    "            host_has_profile_pic = i['host']['host_has_profile_pic'],\n",
    "            host_identity_verified = i['host']['host_identity_verified'],\n",
    "            host_total_listings=i['host']['host_total_listings_count'],\n",
    "            host_verifications=host_verifications\n",
    "        )\n",
    "        host.append(data)\n",
    "        \n",
    "    return host\n"
   ]
  },
  {
   "cell_type": "code",
   "execution_count": 21,
   "metadata": {},
   "outputs": [],
   "source": [
    "df_host_info = pd.DataFrame(host_info()) "
   ]
  },
  {
   "cell_type": "code",
   "execution_count": 22,
   "metadata": {},
   "outputs": [
    {
     "data": {
      "text/plain": [
       "listing_id                   0\n",
       "host_id                      0\n",
       "host_url                     0\n",
       "host_name                    0\n",
       "host_location                0\n",
       "host_about                   0\n",
       "host_response_time        1388\n",
       "host_response_rate        1388\n",
       "host_picture_url             0\n",
       "host_is_superhost            0\n",
       "host_has_profile_pic         0\n",
       "host_identity_verified       0\n",
       "host_total_listings          0\n",
       "host_verifications           0\n",
       "dtype: int64"
      ]
     },
     "execution_count": 22,
     "metadata": {},
     "output_type": "execute_result"
    }
   ],
   "source": [
    "df_host_info.isnull().sum()"
   ]
  },
  {
   "cell_type": "code",
   "execution_count": 23,
   "metadata": {},
   "outputs": [
    {
     "data": {
      "image/png": "[encoded data removed]",
      "text/plain": [
       "<Figure size 640x480 with 1 Axes>"
      ]
     },
     "metadata": {},
     "output_type": "display_data"
    }
   ],
   "source": [
    "df_host_info['host_response_rate'].hist(bins=50, color='blue', edgecolor='black')\n",
    "plt.xlabel('host_response_rate')\n",
    "plt.ylabel('Frequency')\n",
    "plt.show()"
   ]
  },
  {
   "cell_type": "code",
   "execution_count": 24,
   "metadata": {},
   "outputs": [],
   "source": [
    "df_host_info['host_response_rate'] = df_host_info['host_response_rate'].fillna(df_host_info['host_response_rate'].median())"
   ]
  },
  {
   "cell_type": "code",
   "execution_count": 25,
   "metadata": {},
   "outputs": [],
   "source": [
    "df_host_info['host_response_time'] = df_host_info['host_response_time'].fillna(df_host_info['host_response_time'].mode()[0])"
   ]
  },
  {
   "cell_type": "code",
   "execution_count": 26,
   "metadata": {},
   "outputs": [
    {
     "data": {
      "text/plain": [
       "listing_id                0\n",
       "host_id                   0\n",
       "host_url                  0\n",
       "host_name                 0\n",
       "host_location             0\n",
       "host_about                0\n",
       "host_response_time        0\n",
       "host_response_rate        0\n",
       "host_picture_url          0\n",
       "host_is_superhost         0\n",
       "host_has_profile_pic      0\n",
       "host_identity_verified    0\n",
       "host_total_listings       0\n",
       "host_verifications        0\n",
       "dtype: int64"
      ]
     },
     "execution_count": 26,
     "metadata": {},
     "output_type": "execute_result"
    }
   ],
   "source": [
    "df_host_info.isnull().sum()"
   ]
  },
  {
   "cell_type": "code",
   "execution_count": 27,
   "metadata": {},
   "outputs": [
    {
     "data": {
      "text/plain": [
       "np.int64(0)"
      ]
     },
     "execution_count": 27,
     "metadata": {},
     "output_type": "execute_result"
    }
   ],
   "source": [
    "df_host_info.duplicated().sum()"
   ]
  },
  {
   "cell_type": "code",
   "execution_count": 28,
   "metadata": {},
   "outputs": [
    {
     "name": "stdout",
     "output_type": "stream",
     "text": [
      "<class 'pandas.core.frame.DataFrame'>\n",
      "RangeIndex: 5555 entries, 0 to 5554\n",
      "Data columns (total 14 columns):\n",
      " #   Column                  Non-Null Count  Dtype  \n",
      "---  ------                  --------------  -----  \n",
      " 0   listing_id              5555 non-null   object \n",
      " 1   host_id                 5555 non-null   object \n",
      " 2   host_url                5555 non-null   object \n",
      " 3   host_name               5555 non-null   object \n",
      " 4   host_location           5555 non-null   object \n",
      " 5   host_about              5555 non-null   object \n",
      " 6   host_response_time      5555 non-null   object \n",
      " 7   host_response_rate      5555 non-null   float64\n",
      " 8   host_picture_url        5555 non-null   object \n",
      " 9   host_is_superhost       5555 non-null   bool   \n",
      " 10  host_has_profile_pic    5555 non-null   bool   \n",
      " 11  host_identity_verified  5555 non-null   bool   \n",
      " 12  host_total_listings     5555 non-null   int64  \n",
      " 13  host_verifications      5555 non-null   object \n",
      "dtypes: bool(3), float64(1), int64(1), object(9)\n",
      "memory usage: 493.8+ KB\n"
     ]
    }
   ],
   "source": [
    "df_host_info.info()"
   ]
  },
  {
   "cell_type": "code",
   "execution_count": 29,
   "metadata": {},
   "outputs": [
    {
     "data": {
      "text/html": [
       "<div>\n",
       "<style scoped>\n",
       "    .dataframe tbody tr th:only-of-type {\n",
       "        vertical-align: middle;\n",
       "    }\n",
       "\n",
       "    .dataframe tbody tr th {\n",
       "        vertical-align: top;\n",
       "    }\n",
       "\n",
       "    .dataframe thead th {\n",
       "        text-align: right;\n",
       "    }\n",
       "</style>\n",
       "<table border=\"1\" class=\"dataframe\">\n",
       "  <thead>\n",
       "    <tr style=\"text-align: right;\">\n",
       "      <th></th>\n",
       "      <th>listing_id</th>\n",
       "      <th>host_id</th>\n",
       "      <th>host_url</th>\n",
       "      <th>host_name</th>\n",
       "      <th>host_location</th>\n",
       "      <th>host_about</th>\n",
       "      <th>host_response_time</th>\n",
       "      <th>host_response_rate</th>\n",
       "      <th>host_picture_url</th>\n",
       "      <th>host_is_superhost</th>\n",
       "      <th>host_has_profile_pic</th>\n",
       "      <th>host_identity_verified</th>\n",
       "      <th>host_total_listings</th>\n",
       "      <th>host_verifications</th>\n",
       "    </tr>\n",
       "  </thead>\n",
       "  <tbody>\n",
       "    <tr>\n",
       "      <th>0</th>\n",
       "      <td>1003530</td>\n",
       "      <td>454250</td>\n",
       "      <td>https://www.airbnb.com/users/show/454250</td>\n",
       "      <td>Greta</td>\n",
       "      <td>New York, New York, United States</td>\n",
       "      <td>By now I have lived longer in the city than th...</td>\n",
       "      <td>within an hour</td>\n",
       "      <td>100.0</td>\n",
       "      <td>https://a0.muscache.com/im/pictures/f1022be4-e...</td>\n",
       "      <td>True</td>\n",
       "      <td>True</td>\n",
       "      <td>True</td>\n",
       "      <td>3</td>\n",
       "      <td>email, phone, reviews, jumio, offline_governme...</td>\n",
       "    </tr>\n",
       "    <tr>\n",
       "      <th>1</th>\n",
       "      <td>10133554</td>\n",
       "      <td>52004703</td>\n",
       "      <td>https://www.airbnb.com/users/show/52004703</td>\n",
       "      <td>Mehmet Emin</td>\n",
       "      <td>Istanbul, İstanbul, Turkey</td>\n",
       "      <td></td>\n",
       "      <td>within a few hours</td>\n",
       "      <td>100.0</td>\n",
       "      <td>https://a0.muscache.com/im/pictures/user/4cb6b...</td>\n",
       "      <td>False</td>\n",
       "      <td>True</td>\n",
       "      <td>True</td>\n",
       "      <td>2</td>\n",
       "      <td>email, phone, facebook, reviews, jumio, offlin...</td>\n",
       "    </tr>\n",
       "  </tbody>\n",
       "</table>\n",
       "</div>"
      ],
      "text/plain": [
       "  listing_id   host_id                                    host_url  \\\n",
       "0    1003530    454250    https://www.airbnb.com/users/show/454250   \n",
       "1   10133554  52004703  https://www.airbnb.com/users/show/52004703   \n",
       "\n",
       "     host_name                      host_location  \\\n",
       "0        Greta  New York, New York, United States   \n",
       "1  Mehmet Emin         Istanbul, İstanbul, Turkey   \n",
       "\n",
       "                                          host_about  host_response_time  \\\n",
       "0  By now I have lived longer in the city than th...      within an hour   \n",
       "1                                                     within a few hours   \n",
       "\n",
       "   host_response_rate                                   host_picture_url  \\\n",
       "0               100.0  https://a0.muscache.com/im/pictures/f1022be4-e...   \n",
       "1               100.0  https://a0.muscache.com/im/pictures/user/4cb6b...   \n",
       "\n",
       "   host_is_superhost  host_has_profile_pic  host_identity_verified  \\\n",
       "0               True                  True                    True   \n",
       "1              False                  True                    True   \n",
       "\n",
       "   host_total_listings                                 host_verifications  \n",
       "0                    3  email, phone, reviews, jumio, offline_governme...  \n",
       "1                    2  email, phone, facebook, reviews, jumio, offlin...  "
      ]
     },
     "execution_count": 29,
     "metadata": {},
     "output_type": "execute_result"
    }
   ],
   "source": [
    "df_host_info.head(2)"
   ]
  },
  {
   "cell_type": "code",
   "execution_count": 30,
   "metadata": {},
   "outputs": [],
   "source": [
    "def review_info():\n",
    "\n",
    "    review_data=[]\n",
    "\n",
    "    for i in airbnb_data:\n",
    "        data=dict(\n",
    "            listing_id=i['_id'],\n",
    "            first_review=i.get('first_review'),\n",
    "            last_review=i.get('last_review'),\n",
    "            number_of_reviews=i['number_of_reviews'],\n",
    "            accuracy_score=i['review_scores'].get('review_scores_accuracy'),\n",
    "            cleanliness_score=i['review_scores'].get('review_scores_cleanliness'),\n",
    "            checkin_score=i['review_scores'].get('review_scores_checkin'),\n",
    "            communication_score=i['review_scores'].get('review_scores_communication'),\n",
    "            location_score=i['review_scores'].get('review_scores_communication'),\n",
    "            value_score=i['review_scores'].get('review_scores_value'),\n",
    "            rating=i['review_scores'].get('review_scores_rating')\n",
    "        )\n",
    "        review_data.append(data)\n",
    "\n",
    "    \n",
    "    return review_data"
   ]
  },
  {
   "cell_type": "code",
   "execution_count": 31,
   "metadata": {},
   "outputs": [],
   "source": [
    "df_review_info = pd.DataFrame(review_info())"
   ]
  },
  {
   "cell_type": "code",
   "execution_count": 32,
   "metadata": {},
   "outputs": [
    {
     "data": {
      "text/plain": [
       "listing_id                0\n",
       "first_review           1388\n",
       "last_review            1388\n",
       "number_of_reviews         0\n",
       "accuracy_score         1476\n",
       "cleanliness_score      1473\n",
       "checkin_score          1475\n",
       "communication_score    1474\n",
       "location_score         1474\n",
       "value_score            1475\n",
       "rating                 1474\n",
       "dtype: int64"
      ]
     },
     "execution_count": 32,
     "metadata": {},
     "output_type": "execute_result"
    }
   ],
   "source": [
    "df_review_info.isnull().sum()"
   ]
  },
  {
   "cell_type": "code",
   "execution_count": 33,
   "metadata": {},
   "outputs": [
    {
     "name": "stdout",
     "output_type": "stream",
     "text": [
      "accuracy_score        -3.994755\n",
      "cleanliness_score     -2.990649\n",
      "checkin_score         -4.754374\n",
      "communication_score   -4.990911\n",
      "location_score        -4.990911\n",
      "value_score           -2.975530\n",
      "rating                -3.526784\n",
      "dtype: float64\n"
     ]
    }
   ],
   "source": [
    "# List of columns you want to check skewness for\n",
    "columns_to_check = ['accuracy_score', 'cleanliness_score', 'checkin_score', \n",
    "                    'communication_score', 'location_score', 'value_score', \n",
    "                    'rating']\n",
    "\n",
    "# Calculate skewness for the selected columns\n",
    "skewness_values = df_review_info[columns_to_check].skew()\n",
    "\n",
    "# Display skewness values\n",
    "print(skewness_values)"
   ]
  },
  {
   "cell_type": "code",
   "execution_count": 34,
   "metadata": {},
   "outputs": [],
   "source": [
    "df_review_info['first_review'] = df_review_info['first_review'].fillna(df_review_info['first_review'].mode()[0])\n",
    "df_review_info['last_review'] = df_review_info['last_review'].fillna(df_review_info['last_review'].mode()[0])\n",
    "df_review_info['accuracy_score'] = df_review_info['accuracy_score'].fillna(df_review_info['accuracy_score'].median())\n",
    "df_review_info['cleanliness_score'] = df_review_info['cleanliness_score'].fillna(df_review_info['cleanliness_score'].median())\n",
    "df_review_info['checkin_score'] = df_review_info['checkin_score'].fillna(df_review_info['checkin_score'].median())\n",
    "df_review_info['communication_score'] = df_review_info['communication_score'].fillna(df_review_info['communication_score'].median())\n",
    "df_review_info['location_score'] = df_review_info['location_score'].fillna(df_review_info['location_score'].median())\n",
    "df_review_info['value_score'] = df_review_info['value_score'].fillna(df_review_info['value_score'].median())\n",
    "df_review_info['rating'] = df_review_info['rating'].fillna(df_review_info['rating'].median())"
   ]
  },
  {
   "cell_type": "code",
   "execution_count": 35,
   "metadata": {},
   "outputs": [
    {
     "data": {
      "text/plain": [
       "listing_id             0\n",
       "first_review           0\n",
       "last_review            0\n",
       "number_of_reviews      0\n",
       "accuracy_score         0\n",
       "cleanliness_score      0\n",
       "checkin_score          0\n",
       "communication_score    0\n",
       "location_score         0\n",
       "value_score            0\n",
       "rating                 0\n",
       "dtype: int64"
      ]
     },
     "execution_count": 35,
     "metadata": {},
     "output_type": "execute_result"
    }
   ],
   "source": [
    "df_review_info.isnull().sum()"
   ]
  },
  {
   "cell_type": "code",
   "execution_count": 36,
   "metadata": {},
   "outputs": [
    {
     "name": "stdout",
     "output_type": "stream",
     "text": [
      "<class 'pandas.core.frame.DataFrame'>\n",
      "RangeIndex: 5555 entries, 0 to 5554\n",
      "Data columns (total 11 columns):\n",
      " #   Column               Non-Null Count  Dtype  \n",
      "---  ------               --------------  -----  \n",
      " 0   listing_id           5555 non-null   object \n",
      " 1   first_review         5555 non-null   object \n",
      " 2   last_review          5555 non-null   object \n",
      " 3   number_of_reviews    5555 non-null   int64  \n",
      " 4   accuracy_score       5555 non-null   float64\n",
      " 5   cleanliness_score    5555 non-null   float64\n",
      " 6   checkin_score        5555 non-null   float64\n",
      " 7   communication_score  5555 non-null   float64\n",
      " 8   location_score       5555 non-null   float64\n",
      " 9   value_score          5555 non-null   float64\n",
      " 10  rating               5555 non-null   float64\n",
      "dtypes: float64(7), int64(1), object(3)\n",
      "memory usage: 477.5+ KB\n"
     ]
    }
   ],
   "source": [
    "df_review_info.info()"
   ]
  },
  {
   "cell_type": "code",
   "execution_count": 37,
   "metadata": {},
   "outputs": [],
   "source": [
    "df_review_info['first_review'] = pd.to_datetime(df_review_info['first_review'], errors='coerce')\n",
    "df_review_info['last_review'] = pd.to_datetime(df_review_info['last_review'], errors='coerce')\n",
    "df_review_info['accuracy_score'] = df_review_info['accuracy_score'].astype(int)\n",
    "df_review_info['cleanliness_score'] = df_review_info['cleanliness_score'].astype(int)\n",
    "df_review_info['checkin_score'] = df_review_info['checkin_score'].astype(int)\n",
    "df_review_info['communication_score'] = df_review_info['communication_score'].astype(int)\n",
    "df_review_info['location_score'] = df_review_info['location_score'].astype(int)\n",
    "df_review_info['value_score'] = df_review_info['value_score'].astype(int)\n",
    "df_review_info['rating'] = df_review_info['rating'].astype(int)"
   ]
  },
  {
   "cell_type": "code",
   "execution_count": 38,
   "metadata": {},
   "outputs": [
    {
     "name": "stdout",
     "output_type": "stream",
     "text": [
      "<class 'pandas.core.frame.DataFrame'>\n",
      "RangeIndex: 5555 entries, 0 to 5554\n",
      "Data columns (total 11 columns):\n",
      " #   Column               Non-Null Count  Dtype         \n",
      "---  ------               --------------  -----         \n",
      " 0   listing_id           5555 non-null   object        \n",
      " 1   first_review         5555 non-null   datetime64[ns]\n",
      " 2   last_review          5555 non-null   datetime64[ns]\n",
      " 3   number_of_reviews    5555 non-null   int64         \n",
      " 4   accuracy_score       5555 non-null   int64         \n",
      " 5   cleanliness_score    5555 non-null   int64         \n",
      " 6   checkin_score        5555 non-null   int64         \n",
      " 7   communication_score  5555 non-null   int64         \n",
      " 8   location_score       5555 non-null   int64         \n",
      " 9   value_score          5555 non-null   int64         \n",
      " 10  rating               5555 non-null   int64         \n",
      "dtypes: datetime64[ns](2), int64(8), object(1)\n",
      "memory usage: 477.5+ KB\n"
     ]
    }
   ],
   "source": [
    "df_review_info.info()"
   ]
  },
  {
   "cell_type": "code",
   "execution_count": 39,
   "metadata": {},
   "outputs": [
    {
     "data": {
      "text/html": [
       "<div>\n",
       "<style scoped>\n",
       "    .dataframe tbody tr th:only-of-type {\n",
       "        vertical-align: middle;\n",
       "    }\n",
       "\n",
       "    .dataframe tbody tr th {\n",
       "        vertical-align: top;\n",
       "    }\n",
       "\n",
       "    .dataframe thead th {\n",
       "        text-align: right;\n",
       "    }\n",
       "</style>\n",
       "<table border=\"1\" class=\"dataframe\">\n",
       "  <thead>\n",
       "    <tr style=\"text-align: right;\">\n",
       "      <th></th>\n",
       "      <th>listing_id</th>\n",
       "      <th>first_review</th>\n",
       "      <th>last_review</th>\n",
       "      <th>number_of_reviews</th>\n",
       "      <th>accuracy_score</th>\n",
       "      <th>cleanliness_score</th>\n",
       "      <th>checkin_score</th>\n",
       "      <th>communication_score</th>\n",
       "      <th>location_score</th>\n",
       "      <th>value_score</th>\n",
       "      <th>rating</th>\n",
       "    </tr>\n",
       "  </thead>\n",
       "  <tbody>\n",
       "    <tr>\n",
       "      <th>0</th>\n",
       "      <td>1003530</td>\n",
       "      <td>2013-04-29 04:00:00</td>\n",
       "      <td>2018-08-12 04:00:00</td>\n",
       "      <td>70</td>\n",
       "      <td>10</td>\n",
       "      <td>9</td>\n",
       "      <td>10</td>\n",
       "      <td>10</td>\n",
       "      <td>10</td>\n",
       "      <td>10</td>\n",
       "      <td>94</td>\n",
       "    </tr>\n",
       "    <tr>\n",
       "      <th>1</th>\n",
       "      <td>10133554</td>\n",
       "      <td>2017-05-04 04:00:00</td>\n",
       "      <td>2018-05-07 04:00:00</td>\n",
       "      <td>29</td>\n",
       "      <td>9</td>\n",
       "      <td>9</td>\n",
       "      <td>10</td>\n",
       "      <td>10</td>\n",
       "      <td>10</td>\n",
       "      <td>9</td>\n",
       "      <td>92</td>\n",
       "    </tr>\n",
       "  </tbody>\n",
       "</table>\n",
       "</div>"
      ],
      "text/plain": [
       "  listing_id        first_review         last_review  number_of_reviews  \\\n",
       "0    1003530 2013-04-29 04:00:00 2018-08-12 04:00:00                 70   \n",
       "1   10133554 2017-05-04 04:00:00 2018-05-07 04:00:00                 29   \n",
       "\n",
       "   accuracy_score  cleanliness_score  checkin_score  communication_score  \\\n",
       "0              10                  9             10                   10   \n",
       "1               9                  9             10                   10   \n",
       "\n",
       "   location_score  value_score  rating  \n",
       "0              10           10      94  \n",
       "1              10            9      92  "
      ]
     },
     "execution_count": 39,
     "metadata": {},
     "output_type": "execute_result"
    }
   ],
   "source": [
    "df_review_info.head(2)"
   ]
  },
  {
   "cell_type": "code",
   "execution_count": 40,
   "metadata": {},
   "outputs": [],
   "source": [
    "def review_comments_info():\n",
    "\n",
    "    comments_data=[]\n",
    "\n",
    "    for j in airbnb_data:\n",
    "        r_list=j.get('reviews',[])\n",
    "        for i in r_list:\n",
    "            data=dict(\n",
    "                listing_id=i.get('listing_id'),\n",
    "                comment_id=i.get('_id'),\n",
    "                date=i.get('date'),                \n",
    "                reviewer_name=i.get('reviewer_name'),\n",
    "                comments=i.get('comments')\n",
    "                )\n",
    "            comments_data.append(data)\n",
    "    \n",
    "    return comments_data"
   ]
  },
  {
   "cell_type": "code",
   "execution_count": 41,
   "metadata": {},
   "outputs": [],
   "source": [
    "df_comments_info = pd.DataFrame(review_comments_info())"
   ]
  },
  {
   "cell_type": "code",
   "execution_count": 42,
   "metadata": {},
   "outputs": [
    {
     "data": {
      "text/plain": [
       "listing_id       0\n",
       "comment_id       0\n",
       "date             0\n",
       "reviewer_name    1\n",
       "comments         8\n",
       "dtype: int64"
      ]
     },
     "execution_count": 42,
     "metadata": {},
     "output_type": "execute_result"
    }
   ],
   "source": [
    "df_comments_info.isnull().sum()"
   ]
  },
  {
   "cell_type": "code",
   "execution_count": 43,
   "metadata": {},
   "outputs": [],
   "source": [
    "df_comments_info = df_comments_info.fillna('Not Available')"
   ]
  },
  {
   "cell_type": "code",
   "execution_count": 44,
   "metadata": {},
   "outputs": [
    {
     "data": {
      "text/plain": [
       "listing_id       0\n",
       "comment_id       0\n",
       "date             0\n",
       "reviewer_name    0\n",
       "comments         0\n",
       "dtype: int64"
      ]
     },
     "execution_count": 44,
     "metadata": {},
     "output_type": "execute_result"
    }
   ],
   "source": [
    "df_comments_info.isnull().sum()"
   ]
  },
  {
   "cell_type": "code",
   "execution_count": 45,
   "metadata": {},
   "outputs": [
    {
     "name": "stdout",
     "output_type": "stream",
     "text": [
      "<class 'pandas.core.frame.DataFrame'>\n",
      "RangeIndex: 149792 entries, 0 to 149791\n",
      "Data columns (total 5 columns):\n",
      " #   Column         Non-Null Count   Dtype \n",
      "---  ------         --------------   ----- \n",
      " 0   listing_id     149792 non-null  object\n",
      " 1   comment_id     149792 non-null  object\n",
      " 2   date           149792 non-null  object\n",
      " 3   reviewer_name  149792 non-null  object\n",
      " 4   comments       149792 non-null  object\n",
      "dtypes: object(5)\n",
      "memory usage: 5.7+ MB\n"
     ]
    }
   ],
   "source": [
    "df_comments_info.info()"
   ]
  },
  {
   "cell_type": "code",
   "execution_count": 46,
   "metadata": {},
   "outputs": [],
   "source": [
    "df_comments_info['date'] = pd.to_datetime(df_comments_info['date'])"
   ]
  },
  {
   "cell_type": "code",
   "execution_count": 47,
   "metadata": {},
   "outputs": [
    {
     "name": "stdout",
     "output_type": "stream",
     "text": [
      "<class 'pandas.core.frame.DataFrame'>\n",
      "RangeIndex: 149792 entries, 0 to 149791\n",
      "Data columns (total 5 columns):\n",
      " #   Column         Non-Null Count   Dtype         \n",
      "---  ------         --------------   -----         \n",
      " 0   listing_id     149792 non-null  object        \n",
      " 1   comment_id     149792 non-null  object        \n",
      " 2   date           149792 non-null  datetime64[ns]\n",
      " 3   reviewer_name  149792 non-null  object        \n",
      " 4   comments       149792 non-null  object        \n",
      "dtypes: datetime64[ns](1), object(4)\n",
      "memory usage: 5.7+ MB\n"
     ]
    }
   ],
   "source": [
    "df_comments_info.info()"
   ]
  },
  {
   "cell_type": "code",
   "execution_count": 48,
   "metadata": {},
   "outputs": [
    {
     "data": {
      "text/html": [
       "<div>\n",
       "<style scoped>\n",
       "    .dataframe tbody tr th:only-of-type {\n",
       "        vertical-align: middle;\n",
       "    }\n",
       "\n",
       "    .dataframe tbody tr th {\n",
       "        vertical-align: top;\n",
       "    }\n",
       "\n",
       "    .dataframe thead th {\n",
       "        text-align: right;\n",
       "    }\n",
       "</style>\n",
       "<table border=\"1\" class=\"dataframe\">\n",
       "  <thead>\n",
       "    <tr style=\"text-align: right;\">\n",
       "      <th></th>\n",
       "      <th>listing_id</th>\n",
       "      <th>comment_id</th>\n",
       "      <th>date</th>\n",
       "      <th>reviewer_name</th>\n",
       "      <th>comments</th>\n",
       "    </tr>\n",
       "  </thead>\n",
       "  <tbody>\n",
       "    <tr>\n",
       "      <th>0</th>\n",
       "      <td>1003530</td>\n",
       "      <td>4351675</td>\n",
       "      <td>2013-04-29 04:00:00</td>\n",
       "      <td>Josh</td>\n",
       "      <td>i had a really pleasant stay at greta's place....</td>\n",
       "    </tr>\n",
       "    <tr>\n",
       "      <th>1</th>\n",
       "      <td>1003530</td>\n",
       "      <td>4848277</td>\n",
       "      <td>2013-05-28 04:00:00</td>\n",
       "      <td>Ralf</td>\n",
       "      <td>Greta has been a great host, and her apartment...</td>\n",
       "    </tr>\n",
       "    <tr>\n",
       "      <th>2</th>\n",
       "      <td>1003530</td>\n",
       "      <td>5094175</td>\n",
       "      <td>2013-06-11 04:00:00</td>\n",
       "      <td>Mame</td>\n",
       "      <td>Greta was wonderful. We arrived late at night ...</td>\n",
       "    </tr>\n",
       "  </tbody>\n",
       "</table>\n",
       "</div>"
      ],
      "text/plain": [
       "  listing_id comment_id                date reviewer_name  \\\n",
       "0    1003530    4351675 2013-04-29 04:00:00          Josh   \n",
       "1    1003530    4848277 2013-05-28 04:00:00          Ralf   \n",
       "2    1003530    5094175 2013-06-11 04:00:00          Mame   \n",
       "\n",
       "                                            comments  \n",
       "0  i had a really pleasant stay at greta's place....  \n",
       "1  Greta has been a great host, and her apartment...  \n",
       "2  Greta was wonderful. We arrived late at night ...  "
      ]
     },
     "execution_count": 48,
     "metadata": {},
     "output_type": "execute_result"
    }
   ],
   "source": [
    "df_comments_info.head(3)"
   ]
  },
  {
   "cell_type": "code",
   "execution_count": 49,
   "metadata": {},
   "outputs": [],
   "source": [
    "# ========================================================================================="
   ]
  },
  {
   "cell_type": "code",
   "execution_count": 50,
   "metadata": {},
   "outputs": [],
   "source": [
    "# df_listing_info, df_host_info, df_review_info, df_comments_info"
   ]
  },
  {
   "cell_type": "code",
   "execution_count": 51,
   "metadata": {},
   "outputs": [],
   "source": [
    "# # Converting DataFrames to Excel\n",
    "# import openpyxl\n",
    "# with pd.ExcelWriter('Extracted_tables.xlsx') as writer:\n",
    "#     df_listing_info.to_excel(writer, sheet_name='df_listing_info')\n",
    "#     df_host_info.to_excel(writer, sheet_name='df_host_info')\n",
    "#     df_review_info.to_excel(writer, sheet_name='df_review_info')\n",
    "#     df_comments_info.to_excel(writer, sheet_name='df_comments_info')\n",
    "    "
   ]
  },
  {
   "cell_type": "code",
   "execution_count": 52,
   "metadata": {},
   "outputs": [],
   "source": [
    "# # Converting to CSVs\n",
    "# df_listing_info.to_csv('df_listing_info.csv',index=False)\n",
    "# df_host_info.to_csv('df_host_info.csv',index=False)\n",
    "# df_review_info.to_csv('df_review_info.csv',index=False)\n",
    "# df_comments_info.to_csv('df_comments_info.csv',index=False)\n"
   ]
  },
  {
   "cell_type": "code",
   "execution_count": 53,
   "metadata": {},
   "outputs": [
    {
     "name": "stdout",
     "output_type": "stream",
     "text": [
      "Database 'AIRBNB_PROJECT_LATEST' created or already exists.\n",
      "Inserting listing_info into MySQL database...\n",
      "Data inserted into listing_info.\n",
      "Inserting host_info into MySQL database...\n",
      "Data inserted into host_info.\n",
      "Inserting review_info into MySQL database...\n",
      "Data inserted into review_info.\n",
      "Inserting comments_info into MySQL database...\n",
      "Data inserted into comments_info.\n"
     ]
    }
   ],
   "source": [
    "import mysql.connector\n",
    "from sqlalchemy import create_engine\n",
    "import pandas as pd  \n",
    "\n",
    "# MySQL Credentials\n",
    "u_name = 'root'\n",
    "u_pass = '1000Shaik#1'\n",
    "host_name = 'localhost'\n",
    "port = 3306\n",
    "database_name = 'AIRBNB_PROJECT_LATEST'\n",
    "\n",
    "# Helper function to create and return a MySQL connection\n",
    "def create_mysql_connection(database=None):\n",
    "    try:\n",
    "        if database:\n",
    "            connection = mysql.connector.connect(\n",
    "                host=host_name, user=u_name, passwd=u_pass, db=database)\n",
    "        else:\n",
    "            connection = mysql.connector.connect(\n",
    "                host=host_name, user=u_name, passwd=u_pass)\n",
    "        return connection\n",
    "    except mysql.connector.Error as err:\n",
    "        print(f\"Error: {err}\")\n",
    "        return None\n",
    "\n",
    "# Create database if it doesn't exist\n",
    "connection = create_mysql_connection()\n",
    "if connection:\n",
    "    try:\n",
    "        mycursor = connection.cursor()\n",
    "        mycursor.execute(f\"CREATE DATABASE IF NOT EXISTS {database_name}\")\n",
    "        print(f\"Database '{database_name}' created or already exists.\")\n",
    "    finally:\n",
    "        mycursor.close()\n",
    "        connection.close()\n",
    "\n",
    "# Now connect to the specific database\n",
    "connection = create_mysql_connection(database=database_name)\n",
    "\n",
    "if connection:\n",
    "    # Create a SQLAlchemy engine for data transfer\n",
    "    engine = create_engine(f\"mysql+mysqlconnector://{u_name}:{u_pass}@{host_name}/{database_name}\")\n",
    "\n",
    "    # Push DataFrames to MySQL tables\n",
    "    try:\n",
    "        dataframes = [\n",
    "            (df_listing_info, 'listing_info'),\n",
    "            (df_host_info, 'host_info'),\n",
    "            (df_review_info, 'review_info'),\n",
    "            (df_comments_info, 'comments_info')           \n",
    "            ]\n",
    "\n",
    "        for df, table_name in dataframes:\n",
    "            # Insert DataFrame into the table (replace if it already exists)\n",
    "            print(f\"Inserting {table_name} into MySQL database...\")\n",
    "            df.to_sql(name=table_name, con=engine, if_exists='replace', index=False)\n",
    "            print(f\"Data inserted into {table_name}.\")\n",
    "\n",
    "    except Exception as e:\n",
    "        print(f\"Error during data insertion: {e}\")\n",
    "    finally:\n",
    "        connection.close()\n",
    "else:\n",
    "    print(\"Failed to connect to the MySQL database.\")\n"
   ]
  },
  {
   "cell_type": "code",
   "execution_count": 54,
   "metadata": {},
   "outputs": [
    {
     "name": "stdout",
     "output_type": "stream",
     "text": [
      "(5555, 33)\n",
      "(5555, 14)\n",
      "(5555, 11)\n",
      "(149792, 5)\n"
     ]
    }
   ],
   "source": [
    "print(df_listing_info.shape)\n",
    "print(df_host_info.shape)\n",
    "print(df_review_info.shape)\n",
    "print(df_comments_info.shape)"
   ]
  },
  {
   "cell_type": "code",
   "execution_count": 55,
   "metadata": {},
   "outputs": [
    {
     "data": {
      "text/plain": [
       "count    5555.000000\n",
       "mean      118.859869\n",
       "std       198.047000\n",
       "min         4.420000\n",
       "25%        42.640000\n",
       "50%        74.250000\n",
       "75%       130.000000\n",
       "max      8303.140000\n",
       "Name: price, dtype: float64"
      ]
     },
     "execution_count": 55,
     "metadata": {},
     "output_type": "execute_result"
    }
   ],
   "source": [
    "df_listing_info['price'].describe()"
   ]
  },
  {
   "cell_type": "code",
   "execution_count": null,
   "metadata": {},
   "outputs": [],
   "source": []
  },
  {
   "cell_type": "code",
   "execution_count": 8,
   "metadata": {},
   "outputs": [
    {
     "ename": "AttributeError",
     "evalue": "'function' object has no attribute 'columns'",
     "output_type": "error",
     "traceback": [
      "\u001b[1;31m---------------------------------------------------------------------------\u001b[0m",
      "\u001b[1;31mAttributeError\u001b[0m                            Traceback (most recent call last)",
      "Cell \u001b[1;32mIn[8], line 1\u001b[0m\n\u001b[1;32m----> 1\u001b[0m \u001b[43mlisting_info\u001b[49m\u001b[38;5;241;43m.\u001b[39;49m\u001b[43mcolumns\u001b[49m\n",
      "\u001b[1;31mAttributeError\u001b[0m: 'function' object has no attribute 'columns'"
     ]
    }
   ],
   "source": [
    "listing_info.columns"
   ]
  },
  {
   "cell_type": "code",
   "execution_count": 24,
   "metadata": {},
   "outputs": [
    {
     "data": {
      "image/png": "[encoded data removed]",
      "text/plain": [
       "<Figure size 1000x600 with 1 Axes>"
      ]
     },
     "metadata": {},
     "output_type": "display_data"
    }
   ],
   "source": [
    "plt.figure(figsize=(10,6))\n",
    "\n",
    "# Drawing the box plot\n",
    "plt.boxplot(df_listing_info['minimum_nights'], vert=False)  # vert=False for horizontal box plot\n",
    "\n",
    "# Adding labels and title\n",
    "plt.title('Box Plot of Minimum Nights')\n",
    "plt.xlabel('Minimum Nights')\n",
    "\n",
    "# Show the plot\n",
    "plt.show()"
   ]
  },
  {
   "cell_type": "code",
   "execution_count": 25,
   "metadata": {},
   "outputs": [],
   "source": [
    "# Since I already transferedthe data to mysql i changed values there using below queries"
   ]
  },
  {
   "cell_type": "code",
   "execution_count": null,
   "metadata": {},
   "outputs": [],
   "source": [
    "# SELECT * \n",
    "# FROM listing_info\n",
    "# WHERE maximum_nights > 365\n",
    "# ORDER BY maximum_nights DESC;\n",
    "\n",
    "# UPDATE listing_info\n",
    "# SET maximum_nights = 365\n",
    "# WHERE maximum_nights > 365;\n",
    "\n",
    "# SELECT * \n",
    "# FROM listing_info\n",
    "# WHERE minimum_nights > 365\n",
    "# ORDER BY minimum_nights DESC;\n",
    "\n",
    "\n",
    "# UPDATE listing_info\n",
    "# SET minimum_nights = 365\n",
    "# WHERE minimum_nights > 365;"
   ]
  }
 ],
 "metadata": {
  "kernelspec": {
   "display_name": "airbnb_env",
   "language": "python",
   "name": "python3"
  },
  "language_info": {
   "codemirror_mode": {
    "name": "ipython",
    "version": 3
   },
   "file_extension": ".py",
   "mimetype": "text/x-python",
   "name": "python",
   "nbconvert_exporter": "python",
   "pygments_lexer": "ipython3",
   "version": "3.12.2"
  }
 },
 "nbformat": 4,
 "nbformat_minor": 2
}
